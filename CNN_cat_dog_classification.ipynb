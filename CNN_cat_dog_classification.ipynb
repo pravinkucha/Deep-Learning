{
  "nbformat": 4,
  "nbformat_minor": 0,
  "metadata": {
    "colab": {
      "name": "CNN_cat_dog_classification.ipynb",
      "provenance": [],
      "private_outputs": true,
      "collapsed_sections": [],
      "authorship_tag": "ABX9TyOHzGLETvMALUPpUlDWDrbW",
      "include_colab_link": true
    },
    "kernelspec": {
      "name": "python3",
      "display_name": "Python 3"
    },
    "accelerator": "GPU"
  },
  "cells": [
    {
      "cell_type": "markdown",
      "metadata": {
        "id": "view-in-github",
        "colab_type": "text"
      },
      "source": [
        "<a href=\"https://colab.research.google.com/github/pravinkucha/Deep-Learning/blob/master/CNN_cat_dog_classification.ipynb\" target=\"_parent\"><img src=\"https://colab.research.google.com/assets/colab-badge.svg\" alt=\"Open In Colab\"/></a>"
      ]
    },
    {
      "cell_type": "code",
      "metadata": {
        "id": "AbArue_8ysYR",
        "colab_type": "code",
        "colab": {}
      },
      "source": [
        "from google.colab import drive\n",
        "drive.mount('/content/drive')"
      ],
      "execution_count": 0,
      "outputs": []
    },
    {
      "cell_type": "code",
      "metadata": {
        "id": "W8PG5dhEy70r",
        "colab_type": "code",
        "colab": {}
      },
      "source": [
        "from zipfile import ZipFile\n",
        "file_path = '/content/drive/My Drive/dataset.zip'\n",
        "with ZipFile(file_path,'r') as zip:\n",
        "  zip.extractall()\n",
        "  print(\"File extracted complited\")"
      ],
      "execution_count": 0,
      "outputs": []
    },
    {
      "cell_type": "code",
      "metadata": {
        "id": "Wne867JC0C5_",
        "colab_type": "code",
        "colab": {}
      },
      "source": [
        "!pip install -q keras"
      ],
      "execution_count": 0,
      "outputs": []
    },
    {
      "cell_type": "code",
      "metadata": {
        "id": "dpvBSWY00eLQ",
        "colab_type": "code",
        "colab": {}
      },
      "source": [
        "from keras.models import Sequential\n",
        "from keras.layers import Conv2D\n",
        "from keras.layers import MaxPool2D\n",
        "from keras.layers import Flatten\n",
        "from keras.layers import Dense\n",
        "\n",
        "#Initialising CNN\n",
        "obj_ccn_clasify = Sequential()\n",
        "#Step-1 Convolution Layter\n",
        "obj_ccn_clasify.add(Conv2D(32,3,3,input_shape=(64,64,3),activation='relu'))\n",
        "#Step-2 Pooling\n",
        "obj_ccn_clasify.add(MaxPool2D(pool_size=(2,2)))\n",
        "#Step-1 Convolution Layter\n",
        "obj_ccn_clasify.add(Conv2D(16,3,3,activation='relu'))\n",
        "#Step-2 Pooling\n",
        "obj_ccn_clasify.add(MaxPool2D(pool_size=(2,2)))\n",
        "\n",
        "#Step-3 Flatting\n",
        "obj_ccn_clasify.add(Flatten())\n",
        "#Step-4 Full Connection\n",
        "obj_ccn_clasify.add(Dense(units=120,activation='relu'))\n",
        "obj_ccn_clasify.add(Dense(units=1,activation='sigmoid'))\n",
        "#Compliting\n",
        "obj_ccn_clasify.compile(optimizer='Adam',loss='binary_crossentropy', metrics=['accuracy'])"
      ],
      "execution_count": 0,
      "outputs": []
    },
    {
      "cell_type": "code",
      "metadata": {
        "id": "PF3n_QBD3EXO",
        "colab_type": "code",
        "colab": {}
      },
      "source": [
        "from keras.preprocessing.image import ImageDataGenerator\n",
        "train_datagen = ImageDataGenerator(\n",
        "        rescale=1./255,\n",
        "        shear_range=0.2,\n",
        "        zoom_range=0.2,\n",
        "        horizontal_flip=True)\n",
        "test_datagen = ImageDataGenerator(rescale=1./255)\n",
        "\n",
        "training_set = train_datagen.flow_from_directory(\n",
        "        '/content/dataset/train',\n",
        "        target_size=(64, 64),\n",
        "        batch_size=32,\n",
        "        class_mode='binary')\n",
        "testing_set = test_datagen.flow_from_directory(\n",
        "        '/content/dataset/test',\n",
        "        target_size=(64, 64),\n",
        "        batch_size=32,\n",
        "        class_mode='binary')\n",
        "obj_ccn_clasify.fit(\n",
        "        training_set,\n",
        "        steps_per_epoch=1000,\n",
        "        epochs=10,\n",
        "        validation_data=testing_set,\n",
        "        validation_steps=8)"
      ],
      "execution_count": 0,
      "outputs": []
    },
    {
      "cell_type": "code",
      "metadata": {
        "id": "T8tzRSEAYXXO",
        "colab_type": "code",
        "colab": {}
      },
      "source": [
        "#Single image predication\n",
        "from keras.preprocessing import image\n",
        "import numpy as np\n",
        "test_image_1 = image.load_img('/content/dataset/single/cat_or_dog_1.jpg',target_size=(64,64))\n",
        "test_image_1 = image.img_to_array(test_image_1)\n",
        "test_image_1 = np.expand_dims(test_image_1,axis=0)\n",
        "result = obj_ccn_clasify.predict(test_image_1)\n",
        "training_set.class_indices\n",
        "print(result)\n",
        "if result[0][0]==1:\n",
        "  prdct= \"dog\"\n",
        "else:\n",
        "  prdct=\"cat\"\n",
        "print(prdct)\n"
      ],
      "execution_count": 0,
      "outputs": []
    },
    {
      "cell_type": "code",
      "metadata": {
        "id": "SehhXU73rRWE",
        "colab_type": "code",
        "colab": {}
      },
      "source": [
        "#Single image predication\n",
        "from keras.preprocessing import image\n",
        "import numpy as np\n",
        "test_image_2 = image.load_img('/content/dataset/single/cat_or_dog_2.jpg',target_size=(64,64))\n",
        "test_image_2 = image.img_to_array(test_image_2)\n",
        "test_image_2 = np.expand_dims(test_image_2,axis=0)\n",
        "result = obj_ccn_clasify.predict(test_image_2)\n",
        "training_set.class_indices\n",
        "print(result)\n",
        "if result[0][0]==1:\n",
        "  prdct= \"dog\"\n",
        "else:\n",
        "  prdct=\"cat\"\n",
        "print(prdct)"
      ],
      "execution_count": 0,
      "outputs": []
    },
    {
      "cell_type": "code",
      "metadata": {
        "id": "rF61m8oRv-Xq",
        "colab_type": "code",
        "colab": {}
      },
      "source": [
        ""
      ],
      "execution_count": 0,
      "outputs": []
    }
  ]
}