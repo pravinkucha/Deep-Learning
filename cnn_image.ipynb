{
  "nbformat": 4,
  "nbformat_minor": 0,
  "metadata": {
    "colab": {
      "name": "cnn_image.ipynb",
      "provenance": [],
      "collapsed_sections": [],
      "mount_file_id": "17eVyU_1XWz1saPPHFHbaVV7YRJGd835v",
      "authorship_tag": "ABX9TyOuYl5JccyXZH3m0FGN93gE",
      "include_colab_link": true
    },
    "kernelspec": {
      "name": "python3",
      "display_name": "Python 3"
    },
    "accelerator": "GPU"
  },
  "cells": [
    {
      "cell_type": "markdown",
      "metadata": {
        "id": "view-in-github",
        "colab_type": "text"
      },
      "source": [
        "<a href=\"https://colab.research.google.com/github/pravinkucha/Deep-Learning/blob/master/cnn_image.ipynb\" target=\"_parent\"><img src=\"https://colab.research.google.com/assets/colab-badge.svg\" alt=\"Open In Colab\"/></a>"
      ]
    },
    {
      "cell_type": "code",
      "metadata": {
        "id": "aAxNbNmTAO_V",
        "colab_type": "code",
        "colab": {}
      },
      "source": [
        "from keras.preprocessing.image import ImageDataGenerator, array_to_img, img_to_array, load_img\n",
        "datagen = ImageDataGenerator(\n",
        "        rotation_range=40,\n",
        "        width_shift_range=0.2,\n",
        "        height_shift_range=0.2,\n",
        "        shear_range=0.2,\n",
        "        zoom_range=0.2,\n",
        "        horizontal_flip=True,\n",
        "        fill_mode='nearest')\n",
        "img = load_img('/content/drive/My Drive/DL/cat_or_dog_2.jpg')\n",
        "x   = img_to_array(img)\n",
        "x   = x.reshape((1,)+x.shape)\n",
        "x.shape\n",
        "i = 0;\n",
        "for batch in datagen.flow(x,batch_size=1,save_to_dir='/content/drive/My Drive/DL/preview_cat',save_prefix='cat',save_format='jpeg'):\n",
        "  i +=1\n",
        "  if i > 20:\n",
        "    break\n"
      ],
      "execution_count": 0,
      "outputs": []
    },
    {
      "cell_type": "code",
      "metadata": {
        "id": "Q-WVRFlPDMaj",
        "colab_type": "code",
        "colab": {}
      },
      "source": [
        ""
      ],
      "execution_count": 0,
      "outputs": []
    }
  ]
}