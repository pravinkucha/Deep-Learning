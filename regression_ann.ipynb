{
  "nbformat": 4,
  "nbformat_minor": 0,
  "metadata": {
    "colab": {
      "name": "regression_ann.ipynb",
      "provenance": [],
      "collapsed_sections": [],
      "authorship_tag": "ABX9TyNiBTTvOI0NuY4id/LoHai0",
      "include_colab_link": true
    },
    "kernelspec": {
      "name": "python3",
      "display_name": "Python 3"
    }
  },
  "cells": [
    {
      "cell_type": "markdown",
      "metadata": {
        "id": "view-in-github",
        "colab_type": "text"
      },
      "source": [
        "<a href=\"https://colab.research.google.com/github/pravinkucha/Deep-Learning/blob/master/regression_ann.ipynb\" target=\"_parent\"><img src=\"https://colab.research.google.com/assets/colab-badge.svg\" alt=\"Open In Colab\"/></a>"
      ]
    },
    {
      "cell_type": "code",
      "metadata": {
        "id": "XD_GLnAoV3br",
        "colab_type": "code",
        "outputId": "27da6bb6-2c04-4c87-fcd6-9cc8a0422dd3",
        "colab": {
          "base_uri": "https://localhost:8080/",
          "height": 782
        }
      },
      "source": [
        "import pandas as pd\n",
        "BHNames= ['crim','zn','indus','chas','nox','rm',\n",
        "         'age','dis','rad','tax','ptratio','black','lstat','medv']\n",
        "url = 'https://archive.ics.uci.edu/ml/machine-learning-databases/housing/housing.data'\n",
        "\n",
        "data = pd.read_csv(url,delim_whitespace=True,names=BHNames)\n",
        "print(data.head(20))\n",
        "print(data.info())"
      ],
      "execution_count": 60,
      "outputs": [
        {
          "output_type": "stream",
          "text": [
            "       crim    zn  indus  chas    nox  ...    tax  ptratio   black  lstat  medv\n",
            "0   0.00632  18.0   2.31     0  0.538  ...  296.0     15.3  396.90   4.98  24.0\n",
            "1   0.02731   0.0   7.07     0  0.469  ...  242.0     17.8  396.90   9.14  21.6\n",
            "2   0.02729   0.0   7.07     0  0.469  ...  242.0     17.8  392.83   4.03  34.7\n",
            "3   0.03237   0.0   2.18     0  0.458  ...  222.0     18.7  394.63   2.94  33.4\n",
            "4   0.06905   0.0   2.18     0  0.458  ...  222.0     18.7  396.90   5.33  36.2\n",
            "5   0.02985   0.0   2.18     0  0.458  ...  222.0     18.7  394.12   5.21  28.7\n",
            "6   0.08829  12.5   7.87     0  0.524  ...  311.0     15.2  395.60  12.43  22.9\n",
            "7   0.14455  12.5   7.87     0  0.524  ...  311.0     15.2  396.90  19.15  27.1\n",
            "8   0.21124  12.5   7.87     0  0.524  ...  311.0     15.2  386.63  29.93  16.5\n",
            "9   0.17004  12.5   7.87     0  0.524  ...  311.0     15.2  386.71  17.10  18.9\n",
            "10  0.22489  12.5   7.87     0  0.524  ...  311.0     15.2  392.52  20.45  15.0\n",
            "11  0.11747  12.5   7.87     0  0.524  ...  311.0     15.2  396.90  13.27  18.9\n",
            "12  0.09378  12.5   7.87     0  0.524  ...  311.0     15.2  390.50  15.71  21.7\n",
            "13  0.62976   0.0   8.14     0  0.538  ...  307.0     21.0  396.90   8.26  20.4\n",
            "14  0.63796   0.0   8.14     0  0.538  ...  307.0     21.0  380.02  10.26  18.2\n",
            "15  0.62739   0.0   8.14     0  0.538  ...  307.0     21.0  395.62   8.47  19.9\n",
            "16  1.05393   0.0   8.14     0  0.538  ...  307.0     21.0  386.85   6.58  23.1\n",
            "17  0.78420   0.0   8.14     0  0.538  ...  307.0     21.0  386.75  14.67  17.5\n",
            "18  0.80271   0.0   8.14     0  0.538  ...  307.0     21.0  288.99  11.69  20.2\n",
            "19  0.72580   0.0   8.14     0  0.538  ...  307.0     21.0  390.95  11.28  18.2\n",
            "\n",
            "[20 rows x 14 columns]\n",
            "<class 'pandas.core.frame.DataFrame'>\n",
            "RangeIndex: 506 entries, 0 to 505\n",
            "Data columns (total 14 columns):\n",
            " #   Column   Non-Null Count  Dtype  \n",
            "---  ------   --------------  -----  \n",
            " 0   crim     506 non-null    float64\n",
            " 1   zn       506 non-null    float64\n",
            " 2   indus    506 non-null    float64\n",
            " 3   chas     506 non-null    int64  \n",
            " 4   nox      506 non-null    float64\n",
            " 5   rm       506 non-null    float64\n",
            " 6   age      506 non-null    float64\n",
            " 7   dis      506 non-null    float64\n",
            " 8   rad      506 non-null    int64  \n",
            " 9   tax      506 non-null    float64\n",
            " 10  ptratio  506 non-null    float64\n",
            " 11  black    506 non-null    float64\n",
            " 12  lstat    506 non-null    float64\n",
            " 13  medv     506 non-null    float64\n",
            "dtypes: float64(12), int64(2)\n",
            "memory usage: 55.5 KB\n",
            "None\n"
          ],
          "name": "stdout"
        }
      ]
    },
    {
      "cell_type": "code",
      "metadata": {
        "id": "E0ANRVQ5ai4O",
        "colab_type": "code",
        "outputId": "88ad3df2-15e4-4ce9-f615-5559c1a685d2",
        "colab": {
          "base_uri": "https://localhost:8080/",
          "height": 306
        }
      },
      "source": [
        "summary = data.describe()\n",
        "summary = summary.transpose()\n",
        "print(summary)"
      ],
      "execution_count": 61,
      "outputs": [
        {
          "output_type": "stream",
          "text": [
            "         count        mean         std  ...        50%         75%       max\n",
            "crim     506.0    3.613524    8.601545  ...    0.25651    3.677082   88.9762\n",
            "zn       506.0   11.363636   23.322453  ...    0.00000   12.500000  100.0000\n",
            "indus    506.0   11.136779    6.860353  ...    9.69000   18.100000   27.7400\n",
            "chas     506.0    0.069170    0.253994  ...    0.00000    0.000000    1.0000\n",
            "nox      506.0    0.554695    0.115878  ...    0.53800    0.624000    0.8710\n",
            "rm       506.0    6.284634    0.702617  ...    6.20850    6.623500    8.7800\n",
            "age      506.0   68.574901   28.148861  ...   77.50000   94.075000  100.0000\n",
            "dis      506.0    3.795043    2.105710  ...    3.20745    5.188425   12.1265\n",
            "rad      506.0    9.549407    8.707259  ...    5.00000   24.000000   24.0000\n",
            "tax      506.0  408.237154  168.537116  ...  330.00000  666.000000  711.0000\n",
            "ptratio  506.0   18.455534    2.164946  ...   19.05000   20.200000   22.0000\n",
            "black    506.0  356.674032   91.294864  ...  391.44000  396.225000  396.9000\n",
            "lstat    506.0   12.653063    7.141062  ...   11.36000   16.955000   37.9700\n",
            "medv     506.0   22.532806    9.197104  ...   21.20000   25.000000   50.0000\n",
            "\n",
            "[14 rows x 8 columns]\n"
          ],
          "name": "stdout"
        }
      ]
    },
    {
      "cell_type": "code",
      "metadata": {
        "id": "aNkgRsOndXbd",
        "colab_type": "code",
        "outputId": "2038e018-7d98-4923-9b92-866285d858e2",
        "colab": {
          "base_uri": "https://localhost:8080/",
          "height": 272
        }
      },
      "source": [
        "#To Scale data from 0 to 1 apply preprocessing MinMaxScaler\n",
        "from sklearn.preprocessing import MinMaxScaler\n",
        "scaler = MinMaxScaler()\n",
        "Data_scaled = scaler.fit_transform(data)\n",
        "Data_scaled = pd.DataFrame(Data_scaled,columns=BHNames)\n",
        "summary = Data_scaled.describe()\n",
        "summary = summary.transpose()\n",
        "print(summary)"
      ],
      "execution_count": 62,
      "outputs": [
        {
          "output_type": "stream",
          "text": [
            "         count      mean       std  min       25%       50%       75%  max\n",
            "crim     506.0  0.040544  0.096679  0.0  0.000851  0.002812  0.041258  1.0\n",
            "zn       506.0  0.113636  0.233225  0.0  0.000000  0.000000  0.125000  1.0\n",
            "indus    506.0  0.391378  0.251479  0.0  0.173387  0.338343  0.646628  1.0\n",
            "chas     506.0  0.069170  0.253994  0.0  0.000000  0.000000  0.000000  1.0\n",
            "nox      506.0  0.349167  0.238431  0.0  0.131687  0.314815  0.491770  1.0\n",
            "rm       506.0  0.521869  0.134627  0.0  0.445392  0.507281  0.586798  1.0\n",
            "age      506.0  0.676364  0.289896  0.0  0.433831  0.768280  0.938980  1.0\n",
            "dis      506.0  0.242381  0.191482  0.0  0.088259  0.188949  0.369088  1.0\n",
            "rad      506.0  0.371713  0.378576  0.0  0.130435  0.173913  1.000000  1.0\n",
            "tax      506.0  0.422208  0.321636  0.0  0.175573  0.272901  0.914122  1.0\n",
            "ptratio  506.0  0.622929  0.230313  0.0  0.510638  0.686170  0.808511  1.0\n",
            "black    506.0  0.898568  0.230205  0.0  0.945730  0.986232  0.998298  1.0\n",
            "lstat    506.0  0.301409  0.197049  0.0  0.144040  0.265728  0.420116  1.0\n",
            "medv     506.0  0.389618  0.204380  0.0  0.267222  0.360000  0.444444  1.0\n"
          ],
          "name": "stdout"
        }
      ]
    },
    {
      "cell_type": "code",
      "metadata": {
        "id": "aEe8wNaOfGyu",
        "colab_type": "code",
        "outputId": "635b06c1-c5c9-48c5-bfba-21cc423ad269",
        "colab": {
          "base_uri": "https://localhost:8080/",
          "height": 792
        }
      },
      "source": [
        "import matplotlib.pyplot as plt\n",
        "boxplot = Data_scaled.boxplot(column=BHNames)\n",
        "plt.show()\n",
        "\n",
        "Cordata = Data_scaled.corr(method='pearson')\n",
        "with pd.option_context('display.max_rows',None,'display.max_columns',Cordata.shape[1] ):\n",
        "  print(Cordata)\n"
      ],
      "execution_count": 63,
      "outputs": [
        {
          "output_type": "display_data",
          "data": {
            "image/png": "[encoded data removed]",
            "text/plain": [
              "<Figure size 432x288 with 1 Axes>"
            ]
          },
          "metadata": {
            "tags": [],
            "needs_background": "light"
          }
        },
        {
          "output_type": "stream",
          "text": [
            "             crim        zn     indus      chas       nox        rm       age  \\\n",
            "crim     1.000000 -0.200469  0.406583 -0.055892  0.420972 -0.219247  0.352734   \n",
            "zn      -0.200469  1.000000 -0.533828 -0.042697 -0.516604  0.311991 -0.569537   \n",
            "indus    0.406583 -0.533828  1.000000  0.062938  0.763651 -0.391676  0.644779   \n",
            "chas    -0.055892 -0.042697  0.062938  1.000000  0.091203  0.091251  0.086518   \n",
            "nox      0.420972 -0.516604  0.763651  0.091203  1.000000 -0.302188  0.731470   \n",
            "rm      -0.219247  0.311991 -0.391676  0.091251 -0.302188  1.000000 -0.240265   \n",
            "age      0.352734 -0.569537  0.644779  0.086518  0.731470 -0.240265  1.000000   \n",
            "dis     -0.379670  0.664408 -0.708027 -0.099176 -0.769230  0.205246 -0.747881   \n",
            "rad      0.625505 -0.311948  0.595129 -0.007368  0.611441 -0.209847  0.456022   \n",
            "tax      0.582764 -0.314563  0.720760 -0.035587  0.668023 -0.292048  0.506456   \n",
            "ptratio  0.289946 -0.391679  0.383248 -0.121515  0.188933 -0.355501  0.261515   \n",
            "black   -0.385064  0.175520 -0.356977  0.048788 -0.380051  0.128069 -0.273534   \n",
            "lstat    0.455621 -0.412995  0.603800 -0.053929  0.590879 -0.613808  0.602339   \n",
            "medv    -0.388305  0.360445 -0.483725  0.175260 -0.427321  0.695360 -0.376955   \n",
            "\n",
            "              dis       rad       tax   ptratio     black     lstat      medv  \n",
            "crim    -0.379670  0.625505  0.582764  0.289946 -0.385064  0.455621 -0.388305  \n",
            "zn       0.664408 -0.311948 -0.314563 -0.391679  0.175520 -0.412995  0.360445  \n",
            "indus   -0.708027  0.595129  0.720760  0.383248 -0.356977  0.603800 -0.483725  \n",
            "chas    -0.099176 -0.007368 -0.035587 -0.121515  0.048788 -0.053929  0.175260  \n",
            "nox     -0.769230  0.611441  0.668023  0.188933 -0.380051  0.590879 -0.427321  \n",
            "rm       0.205246 -0.209847 -0.292048 -0.355501  0.128069 -0.613808  0.695360  \n",
            "age     -0.747881  0.456022  0.506456  0.261515 -0.273534  0.602339 -0.376955  \n",
            "dis      1.000000 -0.494588 -0.534432 -0.232471  0.291512 -0.496996  0.249929  \n",
            "rad     -0.494588  1.000000  0.910228  0.464741 -0.444413  0.488676 -0.381626  \n",
            "tax     -0.534432  0.910228  1.000000  0.460853 -0.441808  0.543993 -0.468536  \n",
            "ptratio -0.232471  0.464741  0.460853  1.000000 -0.177383  0.374044 -0.507787  \n",
            "black    0.291512 -0.444413 -0.441808 -0.177383  1.000000 -0.366087  0.333461  \n",
            "lstat   -0.496996  0.488676  0.543993  0.374044 -0.366087  1.000000 -0.737663  \n",
            "medv     0.249929 -0.381626 -0.468536 -0.507787  0.333461 -0.737663  1.000000  \n"
          ],
          "name": "stdout"
        }
      ]
    },
    {
      "cell_type": "code",
      "metadata": {
        "id": "JBkdWnBamaQM",
        "colab_type": "code",
        "outputId": "925d5479-37cb-445b-a71d-11cc36c80ae0",
        "colab": {
          "base_uri": "https://localhost:8080/",
          "height": 258
        }
      },
      "source": [
        "plt.matshow(Cordata)\n",
        "plt.xticks(range(len(Cordata.columns)),Cordata.columns)\n",
        "plt.yticks(range(len(Cordata.columns)),Cordata.columns)\n",
        "plt.colorbar()\n",
        "plt.show()"
      ],
      "execution_count": 64,
      "outputs": [
        {
          "output_type": "display_data",
          "data": {
            "image/png": "[encoded data removed]",
            "text/plain": [
              "<Figure size 288x288 with 2 Axes>"
            ]
          },
          "metadata": {
            "tags": [],
            "needs_background": "light"
          }
        }
      ]
    },
    {
      "cell_type": "code",
      "metadata": {
        "id": "Dy3WGb4aulBw",
        "colab_type": "code",
        "outputId": "f8099267-7152-4f71-a70f-b37d25b10a77",
        "colab": {
          "base_uri": "https://localhost:8080/",
          "height": 119
        }
      },
      "source": [
        "from sklearn.model_selection import train_test_split\n",
        "X  = Data_scaled.drop('medv',axis=1)\n",
        "print(\"X shape = \",X.shape)\n",
        "Y  = Data_scaled['medv']\n",
        "print(\"Y shape = \",Y.shape)\n",
        "\n",
        "X_train,X_test,Y_train,Y_test = train_test_split(X,Y,test_size=0.30, random_state=5)\n",
        "print(\"X_train shape = \",X_train.shape)\n",
        "print(\"X_test shape = \",X_test.shape)\n",
        "print(\"Y_train shape = \",Y_train.shape)\n",
        "print(\"Y_test shape = \",Y_test.shape)\n"
      ],
      "execution_count": 65,
      "outputs": [
        {
          "output_type": "stream",
          "text": [
            "X shape =  (506, 13)\n",
            "Y shape =  (506,)\n",
            "X_train shape =  (354, 13)\n",
            "X_test shape =  (152, 13)\n",
            "Y_train shape =  (354,)\n",
            "Y_test shape =  (152,)\n"
          ],
          "name": "stdout"
        }
      ]
    },
    {
      "cell_type": "code",
      "metadata": {
        "id": "pGdEq9kiv2kq",
        "colab_type": "code",
        "colab": {}
      },
      "source": [
        "# Import keras\n",
        "import keras\n",
        "from keras.models import Sequential\n",
        "from keras.layers import Dense\n",
        "from keras import metrics\n",
        "reg_model = Sequential()\n",
        "#First input and First hidden layer\n",
        "reg_model.add(Dense(20,input_dim=13,activation='relu'))\n",
        "#Second hidden layer\n",
        "reg_model.add(Dense(10,activation='relu'))\n",
        "#output Layer\n",
        "reg_model.add(Dense(1,activation='linear'))\n",
        "\n",
        "#Compile ANN\n",
        "reg_model.compile(optimizer=\"adam\",loss=\"mean_squared_error\",metrics=['accuracy'])\n"
      ],
      "execution_count": 0,
      "outputs": []
    },
    {
      "cell_type": "code",
      "metadata": {
        "id": "mLzKsCMX3Z3G",
        "colab_type": "code",
        "outputId": "4a274e4f-7d4e-4ae9-af17-c3f3e3f8808d",
        "colab": {
          "base_uri": "https://localhost:8080/",
          "height": 1000
        }
      },
      "source": [
        "#fit the mode and display the summar\n",
        "reg_model.fit(X_train,Y_train,epochs=100,verbose=1)"
      ],
      "execution_count": 67,
      "outputs": [
        {
          "output_type": "stream",
          "text": [
            "Epoch 1/100\n",
            "354/354 [==============================] - 0s 276us/step - loss: 0.3153 - accuracy: 0.0056\n",
            "Epoch 2/100\n",
            "354/354 [==============================] - 0s 48us/step - loss: 0.1855 - accuracy: 0.0056\n",
            "Epoch 3/100\n",
            "354/354 [==============================] - 0s 46us/step - loss: 0.1135 - accuracy: 0.0085\n",
            "Epoch 4/100\n",
            "354/354 [==============================] - 0s 52us/step - loss: 0.0708 - accuracy: 0.0085\n",
            "Epoch 5/100\n",
            "354/354 [==============================] - 0s 56us/step - loss: 0.0430 - accuracy: 0.0085\n",
            "Epoch 6/100\n",
            "354/354 [==============================] - 0s 45us/step - loss: 0.0393 - accuracy: 0.0141\n",
            "Epoch 7/100\n",
            "354/354 [==============================] - 0s 49us/step - loss: 0.0370 - accuracy: 0.0141\n",
            "Epoch 8/100\n",
            "354/354 [==============================] - 0s 52us/step - loss: 0.0350 - accuracy: 0.0141\n",
            "Epoch 9/100\n",
            "354/354 [==============================] - 0s 54us/step - loss: 0.0331 - accuracy: 0.0141\n",
            "Epoch 10/100\n",
            "354/354 [==============================] - 0s 52us/step - loss: 0.0321 - accuracy: 0.0141\n",
            "Epoch 11/100\n",
            "354/354 [==============================] - 0s 46us/step - loss: 0.0311 - accuracy: 0.0141\n",
            "Epoch 12/100\n",
            "354/354 [==============================] - 0s 47us/step - loss: 0.0301 - accuracy: 0.0141\n",
            "Epoch 13/100\n",
            "354/354 [==============================] - 0s 49us/step - loss: 0.0291 - accuracy: 0.0141\n",
            "Epoch 14/100\n",
            "354/354 [==============================] - 0s 50us/step - loss: 0.0283 - accuracy: 0.0141\n",
            "Epoch 15/100\n",
            "354/354 [==============================] - 0s 49us/step - loss: 0.0274 - accuracy: 0.0141\n",
            "Epoch 16/100\n",
            "354/354 [==============================] - 0s 45us/step - loss: 0.0267 - accuracy: 0.0141\n",
            "Epoch 17/100\n",
            "354/354 [==============================] - 0s 48us/step - loss: 0.0262 - accuracy: 0.0141\n",
            "Epoch 18/100\n",
            "354/354 [==============================] - 0s 53us/step - loss: 0.0252 - accuracy: 0.0141\n",
            "Epoch 19/100\n",
            "354/354 [==============================] - 0s 53us/step - loss: 0.0246 - accuracy: 0.0141\n",
            "Epoch 20/100\n",
            "354/354 [==============================] - 0s 53us/step - loss: 0.0240 - accuracy: 0.0141\n",
            "Epoch 21/100\n",
            "354/354 [==============================] - 0s 45us/step - loss: 0.0234 - accuracy: 0.0141\n",
            "Epoch 22/100\n",
            "354/354 [==============================] - 0s 46us/step - loss: 0.0228 - accuracy: 0.0141\n",
            "Epoch 23/100\n",
            "354/354 [==============================] - 0s 45us/step - loss: 0.0223 - accuracy: 0.0141\n",
            "Epoch 24/100\n",
            "354/354 [==============================] - 0s 46us/step - loss: 0.0219 - accuracy: 0.0141\n",
            "Epoch 25/100\n",
            "354/354 [==============================] - 0s 50us/step - loss: 0.0214 - accuracy: 0.0141\n",
            "Epoch 26/100\n",
            "354/354 [==============================] - 0s 50us/step - loss: 0.0208 - accuracy: 0.0141\n",
            "Epoch 27/100\n",
            "354/354 [==============================] - 0s 49us/step - loss: 0.0201 - accuracy: 0.0141\n",
            "Epoch 28/100\n",
            "354/354 [==============================] - 0s 47us/step - loss: 0.0195 - accuracy: 0.0141\n",
            "Epoch 29/100\n",
            "354/354 [==============================] - 0s 50us/step - loss: 0.0188 - accuracy: 0.0141\n",
            "Epoch 30/100\n",
            "354/354 [==============================] - 0s 43us/step - loss: 0.0181 - accuracy: 0.0169\n",
            "Epoch 31/100\n",
            "354/354 [==============================] - 0s 48us/step - loss: 0.0176 - accuracy: 0.0198\n",
            "Epoch 32/100\n",
            "354/354 [==============================] - 0s 46us/step - loss: 0.0169 - accuracy: 0.0198\n",
            "Epoch 33/100\n",
            "354/354 [==============================] - 0s 46us/step - loss: 0.0162 - accuracy: 0.0198\n",
            "Epoch 34/100\n",
            "354/354 [==============================] - 0s 44us/step - loss: 0.0154 - accuracy: 0.0198\n",
            "Epoch 35/100\n",
            "354/354 [==============================] - 0s 47us/step - loss: 0.0147 - accuracy: 0.0226\n",
            "Epoch 36/100\n",
            "354/354 [==============================] - 0s 64us/step - loss: 0.0142 - accuracy: 0.0226\n",
            "Epoch 37/100\n",
            "354/354 [==============================] - 0s 45us/step - loss: 0.0136 - accuracy: 0.0226\n",
            "Epoch 38/100\n",
            "354/354 [==============================] - 0s 56us/step - loss: 0.0131 - accuracy: 0.0226\n",
            "Epoch 39/100\n",
            "354/354 [==============================] - 0s 47us/step - loss: 0.0128 - accuracy: 0.0226\n",
            "Epoch 40/100\n",
            "354/354 [==============================] - 0s 46us/step - loss: 0.0120 - accuracy: 0.0226\n",
            "Epoch 41/100\n",
            "354/354 [==============================] - 0s 49us/step - loss: 0.0117 - accuracy: 0.0226\n",
            "Epoch 42/100\n",
            "354/354 [==============================] - 0s 51us/step - loss: 0.0112 - accuracy: 0.0226\n",
            "Epoch 43/100\n",
            "354/354 [==============================] - 0s 52us/step - loss: 0.0109 - accuracy: 0.0226\n",
            "Epoch 44/100\n",
            "354/354 [==============================] - 0s 52us/step - loss: 0.0105 - accuracy: 0.0226\n",
            "Epoch 45/100\n",
            "354/354 [==============================] - 0s 47us/step - loss: 0.0102 - accuracy: 0.0226\n",
            "Epoch 46/100\n",
            "354/354 [==============================] - 0s 45us/step - loss: 0.0101 - accuracy: 0.0226\n",
            "Epoch 47/100\n",
            "354/354 [==============================] - 0s 45us/step - loss: 0.0096 - accuracy: 0.0226\n",
            "Epoch 48/100\n",
            "354/354 [==============================] - 0s 48us/step - loss: 0.0094 - accuracy: 0.0226\n",
            "Epoch 49/100\n",
            "354/354 [==============================] - 0s 49us/step - loss: 0.0094 - accuracy: 0.0226\n",
            "Epoch 50/100\n",
            "354/354 [==============================] - 0s 50us/step - loss: 0.0089 - accuracy: 0.0226\n",
            "Epoch 51/100\n",
            "354/354 [==============================] - 0s 47us/step - loss: 0.0087 - accuracy: 0.0226\n",
            "Epoch 52/100\n",
            "354/354 [==============================] - 0s 51us/step - loss: 0.0084 - accuracy: 0.0226\n",
            "Epoch 53/100\n",
            "354/354 [==============================] - 0s 48us/step - loss: 0.0084 - accuracy: 0.0226\n",
            "Epoch 54/100\n",
            "354/354 [==============================] - 0s 46us/step - loss: 0.0082 - accuracy: 0.0226\n",
            "Epoch 55/100\n",
            "354/354 [==============================] - 0s 46us/step - loss: 0.0081 - accuracy: 0.0226\n",
            "Epoch 56/100\n",
            "354/354 [==============================] - 0s 48us/step - loss: 0.0080 - accuracy: 0.0226\n",
            "Epoch 57/100\n",
            "354/354 [==============================] - 0s 49us/step - loss: 0.0079 - accuracy: 0.0226\n",
            "Epoch 58/100\n",
            "354/354 [==============================] - 0s 45us/step - loss: 0.0082 - accuracy: 0.0226\n",
            "Epoch 59/100\n",
            "354/354 [==============================] - 0s 44us/step - loss: 0.0077 - accuracy: 0.0226\n",
            "Epoch 60/100\n",
            "354/354 [==============================] - 0s 46us/step - loss: 0.0076 - accuracy: 0.0226\n",
            "Epoch 61/100\n",
            "354/354 [==============================] - 0s 51us/step - loss: 0.0077 - accuracy: 0.0226\n",
            "Epoch 62/100\n",
            "354/354 [==============================] - 0s 49us/step - loss: 0.0077 - accuracy: 0.0226\n",
            "Epoch 63/100\n",
            "354/354 [==============================] - 0s 48us/step - loss: 0.0075 - accuracy: 0.0226\n",
            "Epoch 64/100\n",
            "354/354 [==============================] - 0s 78us/step - loss: 0.0076 - accuracy: 0.0226\n",
            "Epoch 65/100\n",
            "354/354 [==============================] - 0s 67us/step - loss: 0.0073 - accuracy: 0.0226\n",
            "Epoch 66/100\n",
            "354/354 [==============================] - 0s 56us/step - loss: 0.0072 - accuracy: 0.0226\n",
            "Epoch 67/100\n",
            "354/354 [==============================] - 0s 53us/step - loss: 0.0073 - accuracy: 0.0226\n",
            "Epoch 68/100\n",
            "354/354 [==============================] - 0s 48us/step - loss: 0.0073 - accuracy: 0.0226\n",
            "Epoch 69/100\n",
            "354/354 [==============================] - 0s 49us/step - loss: 0.0069 - accuracy: 0.0226\n",
            "Epoch 70/100\n",
            "354/354 [==============================] - 0s 47us/step - loss: 0.0068 - accuracy: 0.0226\n",
            "Epoch 71/100\n",
            "354/354 [==============================] - 0s 47us/step - loss: 0.0068 - accuracy: 0.0226\n",
            "Epoch 72/100\n",
            "354/354 [==============================] - 0s 49us/step - loss: 0.0067 - accuracy: 0.0226\n",
            "Epoch 73/100\n",
            "354/354 [==============================] - 0s 47us/step - loss: 0.0066 - accuracy: 0.0226\n",
            "Epoch 74/100\n",
            "354/354 [==============================] - 0s 51us/step - loss: 0.0069 - accuracy: 0.0226\n",
            "Epoch 75/100\n",
            "354/354 [==============================] - 0s 50us/step - loss: 0.0068 - accuracy: 0.0226\n",
            "Epoch 76/100\n",
            "354/354 [==============================] - 0s 46us/step - loss: 0.0067 - accuracy: 0.0226\n",
            "Epoch 77/100\n",
            "354/354 [==============================] - 0s 51us/step - loss: 0.0083 - accuracy: 0.0254\n",
            "Epoch 78/100\n",
            "354/354 [==============================] - 0s 56us/step - loss: 0.0071 - accuracy: 0.0254\n",
            "Epoch 79/100\n",
            "354/354 [==============================] - 0s 55us/step - loss: 0.0066 - accuracy: 0.0254\n",
            "Epoch 80/100\n",
            "354/354 [==============================] - 0s 50us/step - loss: 0.0065 - accuracy: 0.0254\n",
            "Epoch 81/100\n",
            "354/354 [==============================] - 0s 49us/step - loss: 0.0063 - accuracy: 0.0254\n",
            "Epoch 82/100\n",
            "354/354 [==============================] - 0s 46us/step - loss: 0.0062 - accuracy: 0.0254\n",
            "Epoch 83/100\n",
            "354/354 [==============================] - 0s 46us/step - loss: 0.0062 - accuracy: 0.0254\n",
            "Epoch 84/100\n",
            "354/354 [==============================] - 0s 45us/step - loss: 0.0063 - accuracy: 0.0254\n",
            "Epoch 85/100\n",
            "354/354 [==============================] - 0s 44us/step - loss: 0.0064 - accuracy: 0.0226\n",
            "Epoch 86/100\n",
            "354/354 [==============================] - 0s 54us/step - loss: 0.0062 - accuracy: 0.0226\n",
            "Epoch 87/100\n",
            "354/354 [==============================] - 0s 46us/step - loss: 0.0060 - accuracy: 0.0226\n",
            "Epoch 88/100\n",
            "354/354 [==============================] - 0s 50us/step - loss: 0.0063 - accuracy: 0.0226\n",
            "Epoch 89/100\n",
            "354/354 [==============================] - 0s 62us/step - loss: 0.0062 - accuracy: 0.0226\n",
            "Epoch 90/100\n",
            "354/354 [==============================] - 0s 47us/step - loss: 0.0061 - accuracy: 0.0226\n",
            "Epoch 91/100\n",
            "354/354 [==============================] - 0s 52us/step - loss: 0.0060 - accuracy: 0.0226\n",
            "Epoch 92/100\n",
            "354/354 [==============================] - 0s 50us/step - loss: 0.0060 - accuracy: 0.0254\n",
            "Epoch 93/100\n",
            "354/354 [==============================] - 0s 51us/step - loss: 0.0060 - accuracy: 0.0226\n",
            "Epoch 94/100\n",
            "354/354 [==============================] - 0s 52us/step - loss: 0.0060 - accuracy: 0.0226\n",
            "Epoch 95/100\n",
            "354/354 [==============================] - 0s 54us/step - loss: 0.0059 - accuracy: 0.0226\n",
            "Epoch 96/100\n",
            "354/354 [==============================] - 0s 54us/step - loss: 0.0059 - accuracy: 0.0254\n",
            "Epoch 97/100\n",
            "354/354 [==============================] - 0s 52us/step - loss: 0.0059 - accuracy: 0.0254\n",
            "Epoch 98/100\n",
            "354/354 [==============================] - 0s 51us/step - loss: 0.0058 - accuracy: 0.0254\n",
            "Epoch 99/100\n",
            "354/354 [==============================] - 0s 48us/step - loss: 0.0058 - accuracy: 0.0254\n",
            "Epoch 100/100\n",
            "354/354 [==============================] - 0s 46us/step - loss: 0.0057 - accuracy: 0.0254\n"
          ],
          "name": "stdout"
        },
        {
          "output_type": "execute_result",
          "data": {
            "text/plain": [
              "<keras.callbacks.callbacks.History at 0x7fecfd718da0>"
            ]
          },
          "metadata": {
            "tags": []
          },
          "execution_count": 67
        }
      ]
    },
    {
      "cell_type": "code",
      "metadata": {
        "id": "Wp6SBwqZ5kRZ",
        "colab_type": "code",
        "colab": {
          "base_uri": "https://localhost:8080/",
          "height": 255
        },
        "outputId": "10a85d9f-b463-4607-a3a2-5a73ddd8dfff"
      },
      "source": [
        "reg_model.summary()"
      ],
      "execution_count": 68,
      "outputs": [
        {
          "output_type": "stream",
          "text": [
            "Model: \"sequential_8\"\n",
            "_________________________________________________________________\n",
            "Layer (type)                 Output Shape              Param #   \n",
            "=================================================================\n",
            "dense_22 (Dense)             (None, 20)                280       \n",
            "_________________________________________________________________\n",
            "dense_23 (Dense)             (None, 10)                210       \n",
            "_________________________________________________________________\n",
            "dense_24 (Dense)             (None, 1)                 11        \n",
            "=================================================================\n",
            "Total params: 501\n",
            "Trainable params: 501\n",
            "Non-trainable params: 0\n",
            "_________________________________________________________________\n"
          ],
          "name": "stdout"
        }
      ]
    },
    {
      "cell_type": "code",
      "metadata": {
        "id": "AEXZfMJGMQQ9",
        "colab_type": "code",
        "colab": {
          "base_uri": "https://localhost:8080/",
          "height": 51
        },
        "outputId": "f4103326-5d0a-40e6-feba-a283f2601300"
      },
      "source": [
        "y_predKM = reg_model.predict(X_test)\n",
        "score = reg_model.evaluate(X_test,Y_test,verbose=1)\n",
        "print(score[0])"
      ],
      "execution_count": 71,
      "outputs": [
        {
          "output_type": "stream",
          "text": [
            "152/152 [==============================] - 0s 54us/step\n",
            "0.010929877624699944\n"
          ],
          "name": "stdout"
        }
      ]
    },
    {
      "cell_type": "code",
      "metadata": {
        "id": "HHuUFrOBMk4W",
        "colab_type": "code",
        "colab": {
          "base_uri": "https://localhost:8080/",
          "height": 329
        },
        "outputId": "43c968b8-3787-460a-ecac-773a61580d32"
      },
      "source": [
        "#Linear regression\n",
        "from sklearn.linear_model import LinearRegression\n",
        "LModel = LinearRegression()\n",
        "LModel.fit(X_train,Y_train)\n",
        "y_predLM = LModel.predict(X_test)\n",
        "plt.figure(1)\n",
        "plt.subplot(121)\n",
        "plt.scatter(Y_test,y_predKM)\n",
        "plt.xlabel(\"Actual Value\")\n",
        "plt.ylabel(\"Predict Value\")\n",
        "plt.title(\"Keras Regression ANN\")\n",
        "\n",
        "plt.subplot(122)\n",
        "plt.scatter(Y_test,y_predLM)\n",
        "plt.xlabel(\"Actual Value\")\n",
        "plt.ylabel(\"Predict Value\")\n",
        "plt.title(\"Linear Regression\")\n",
        "plt.show()\n",
        "\n",
        "from sklearn.metrics import mean_squared_error\n",
        "mse = mean_squared_error(Y_test,y_predLM)\n",
        "print(\"Linear Regressio Mean Squared Error\")\n",
        "print(mse)"
      ],
      "execution_count": 72,
      "outputs": [
        {
          "output_type": "display_data",
          "data": {
            "image/png": "[encoded data removed]",
            "text/plain": [
              "<Figure size 432x288 with 2 Axes>"
            ]
          },
          "metadata": {
            "tags": [],
            "needs_background": "light"
          }
        },
        {
          "output_type": "stream",
          "text": [
            "Linear Regressio Mean Squared Error\n",
            "0.015159030964982022\n"
          ],
          "name": "stdout"
        }
      ]
    },
    {
      "cell_type": "code",
      "metadata": {
        "id": "ZMp14oRsMmKd",
        "colab_type": "code",
        "colab": {}
      },
      "source": [
        ""
      ],
      "execution_count": 0,
      "outputs": []
    }
  ]
}