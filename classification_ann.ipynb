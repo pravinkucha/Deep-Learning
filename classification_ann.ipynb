{
  "nbformat": 4,
  "nbformat_minor": 0,
  "metadata": {
    "colab": {
      "name": "classification_ann.ipynb",
      "provenance": [],
      "collapsed_sections": [],
      "authorship_tag": "ABX9TyPQRwh88JWVEaRMsAR3BNrf",
      "include_colab_link": true
    },
    "kernelspec": {
      "name": "python3",
      "display_name": "Python 3"
    }
  },
  "cells": [
    {
      "cell_type": "markdown",
      "metadata": {
        "id": "view-in-github",
        "colab_type": "text"
      },
      "source": [
        "<a href=\"https://colab.research.google.com/github/pravinkucha/Deep-Learning/blob/master/classification_ann.ipynb\" target=\"_parent\"><img src=\"https://colab.research.google.com/assets/colab-badge.svg\" alt=\"Open In Colab\"/></a>"
      ]
    },
    {
      "cell_type": "code",
      "metadata": {
        "id": "JkKsP-xfEcKX",
        "colab_type": "code",
        "cellView": "both",
        "outputId": "3ab26dc8-e584-465f-86c3-e327fbd8a355",
        "colab": {
          "resources": {
            "http://localhost:8080/nbextensions/google.colab/files.js": {
              "data": "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",
              "ok": true,
              "headers": [
                [
                  "content-type",
                  "application/javascript"
                ]
              ],
              "status": 200,
              "status_text": ""
            }
          },
          "base_uri": "https://localhost:8080/",
          "height": 91
        }
      },
      "source": [
        "from google.colab import files\n",
        "\n",
        "uploaded = files.upload()\n",
        "\n",
        "for fn in uploaded.keys():\n",
        "  print('User uploaded file \"{name}\" with length {length} bytes'.format(\n",
        "      name=fn, length=len(uploaded[fn])))\n"
      ],
      "execution_count": 0,
      "outputs": [
        {
          "output_type": "display_data",
          "data": {
            "text/html": [
              "\n",
              "     <input type=\"file\" id=\"files-388a47b3-bd4b-43ee-ad5e-bfb25199d6d6\" name=\"files[]\" multiple disabled />\n",
              "     <output id=\"result-388a47b3-bd4b-43ee-ad5e-bfb25199d6d6\">\n",
              "      Upload widget is only available when the cell has been executed in the\n",
              "      current browser session. Please rerun this cell to enable.\n",
              "      </output>\n",
              "      <script src=\"/nbextensions/google.colab/files.js\"></script> "
            ],
            "text/plain": [
              "<IPython.core.display.HTML object>"
            ]
          },
          "metadata": {
            "tags": []
          }
        },
        {
          "output_type": "stream",
          "text": [
            "Saving data_breast_cancer.csv to data_breast_cancer (2).csv\n",
            "User uploaded file \"data_breast_cancer.csv\" with length 125204 bytes\n"
          ],
          "name": "stdout"
        }
      ]
    },
    {
      "cell_type": "code",
      "metadata": {
        "id": "LpSyIyN3HH_J",
        "colab_type": "code",
        "outputId": "11f11992-62d8-44d9-b8d9-501fea1b1766",
        "colab": {
          "base_uri": "https://localhost:8080/",
          "height": 241
        }
      },
      "source": [
        "import pandas as pd\n",
        "import io\n",
        "data = pd.read_csv(io.StringIO(uploaded['data_breast_cancer.csv'].decode('utf-8')))\n",
        "data.head()\n"
      ],
      "execution_count": 0,
      "outputs": [
        {
          "output_type": "execute_result",
          "data": {
            "text/html": [
              "<div>\n",
              "<style scoped>\n",
              "    .dataframe tbody tr th:only-of-type {\n",
              "        vertical-align: middle;\n",
              "    }\n",
              "\n",
              "    .dataframe tbody tr th {\n",
              "        vertical-align: top;\n",
              "    }\n",
              "\n",
              "    .dataframe thead th {\n",
              "        text-align: right;\n",
              "    }\n",
              "</style>\n",
              "<table border=\"1\" class=\"dataframe\">\n",
              "  <thead>\n",
              "    <tr style=\"text-align: right;\">\n",
              "      <th></th>\n",
              "      <th>id</th>\n",
              "      <th>diagnosis</th>\n",
              "      <th>radius_mean</th>\n",
              "      <th>texture_mean</th>\n",
              "      <th>perimeter_mean</th>\n",
              "      <th>area_mean</th>\n",
              "      <th>smoothness_mean</th>\n",
              "      <th>compactness_mean</th>\n",
              "      <th>concavity_mean</th>\n",
              "      <th>concave points_mean</th>\n",
              "      <th>symmetry_mean</th>\n",
              "      <th>fractal_dimension_mean</th>\n",
              "      <th>radius_se</th>\n",
              "      <th>texture_se</th>\n",
              "      <th>perimeter_se</th>\n",
              "      <th>area_se</th>\n",
              "      <th>smoothness_se</th>\n",
              "      <th>compactness_se</th>\n",
              "      <th>concavity_se</th>\n",
              "      <th>concave points_se</th>\n",
              "      <th>symmetry_se</th>\n",
              "      <th>fractal_dimension_se</th>\n",
              "      <th>radius_worst</th>\n",
              "      <th>texture_worst</th>\n",
              "      <th>perimeter_worst</th>\n",
              "      <th>area_worst</th>\n",
              "      <th>smoothness_worst</th>\n",
              "      <th>compactness_worst</th>\n",
              "      <th>concavity_worst</th>\n",
              "      <th>concave points_worst</th>\n",
              "      <th>symmetry_worst</th>\n",
              "      <th>fractal_dimension_worst</th>\n",
              "      <th>Unnamed: 32</th>\n",
              "    </tr>\n",
              "  </thead>\n",
              "  <tbody>\n",
              "    <tr>\n",
              "      <th>0</th>\n",
              "      <td>842302</td>\n",
              "      <td>M</td>\n",
              "      <td>17.99</td>\n",
              "      <td>10.38</td>\n",
              "      <td>122.80</td>\n",
              "      <td>1001.0</td>\n",
              "      <td>0.11840</td>\n",
              "      <td>0.27760</td>\n",
              "      <td>0.3001</td>\n",
              "      <td>0.14710</td>\n",
              "      <td>0.2419</td>\n",
              "      <td>0.07871</td>\n",
              "      <td>1.0950</td>\n",
              "      <td>0.9053</td>\n",
              "      <td>8.589</td>\n",
              "      <td>153.40</td>\n",
              "      <td>0.006399</td>\n",
              "      <td>0.04904</td>\n",
              "      <td>0.05373</td>\n",
              "      <td>0.01587</td>\n",
              "      <td>0.03003</td>\n",
              "      <td>0.006193</td>\n",
              "      <td>25.38</td>\n",
              "      <td>17.33</td>\n",
              "      <td>184.60</td>\n",
              "      <td>2019.0</td>\n",
              "      <td>0.1622</td>\n",
              "      <td>0.6656</td>\n",
              "      <td>0.7119</td>\n",
              "      <td>0.2654</td>\n",
              "      <td>0.4601</td>\n",
              "      <td>0.11890</td>\n",
              "      <td>NaN</td>\n",
              "    </tr>\n",
              "    <tr>\n",
              "      <th>1</th>\n",
              "      <td>842517</td>\n",
              "      <td>M</td>\n",
              "      <td>20.57</td>\n",
              "      <td>17.77</td>\n",
              "      <td>132.90</td>\n",
              "      <td>1326.0</td>\n",
              "      <td>0.08474</td>\n",
              "      <td>0.07864</td>\n",
              "      <td>0.0869</td>\n",
              "      <td>0.07017</td>\n",
              "      <td>0.1812</td>\n",
              "      <td>0.05667</td>\n",
              "      <td>0.5435</td>\n",
              "      <td>0.7339</td>\n",
              "      <td>3.398</td>\n",
              "      <td>74.08</td>\n",
              "      <td>0.005225</td>\n",
              "      <td>0.01308</td>\n",
              "      <td>0.01860</td>\n",
              "      <td>0.01340</td>\n",
              "      <td>0.01389</td>\n",
              "      <td>0.003532</td>\n",
              "      <td>24.99</td>\n",
              "      <td>23.41</td>\n",
              "      <td>158.80</td>\n",
              "      <td>1956.0</td>\n",
              "      <td>0.1238</td>\n",
              "      <td>0.1866</td>\n",
              "      <td>0.2416</td>\n",
              "      <td>0.1860</td>\n",
              "      <td>0.2750</td>\n",
              "      <td>0.08902</td>\n",
              "      <td>NaN</td>\n",
              "    </tr>\n",
              "    <tr>\n",
              "      <th>2</th>\n",
              "      <td>84300903</td>\n",
              "      <td>M</td>\n",
              "      <td>19.69</td>\n",
              "      <td>21.25</td>\n",
              "      <td>130.00</td>\n",
              "      <td>1203.0</td>\n",
              "      <td>0.10960</td>\n",
              "      <td>0.15990</td>\n",
              "      <td>0.1974</td>\n",
              "      <td>0.12790</td>\n",
              "      <td>0.2069</td>\n",
              "      <td>0.05999</td>\n",
              "      <td>0.7456</td>\n",
              "      <td>0.7869</td>\n",
              "      <td>4.585</td>\n",
              "      <td>94.03</td>\n",
              "      <td>0.006150</td>\n",
              "      <td>0.04006</td>\n",
              "      <td>0.03832</td>\n",
              "      <td>0.02058</td>\n",
              "      <td>0.02250</td>\n",
              "      <td>0.004571</td>\n",
              "      <td>23.57</td>\n",
              "      <td>25.53</td>\n",
              "      <td>152.50</td>\n",
              "      <td>1709.0</td>\n",
              "      <td>0.1444</td>\n",
              "      <td>0.4245</td>\n",
              "      <td>0.4504</td>\n",
              "      <td>0.2430</td>\n",
              "      <td>0.3613</td>\n",
              "      <td>0.08758</td>\n",
              "      <td>NaN</td>\n",
              "    </tr>\n",
              "    <tr>\n",
              "      <th>3</th>\n",
              "      <td>84348301</td>\n",
              "      <td>M</td>\n",
              "      <td>11.42</td>\n",
              "      <td>20.38</td>\n",
              "      <td>77.58</td>\n",
              "      <td>386.1</td>\n",
              "      <td>0.14250</td>\n",
              "      <td>0.28390</td>\n",
              "      <td>0.2414</td>\n",
              "      <td>0.10520</td>\n",
              "      <td>0.2597</td>\n",
              "      <td>0.09744</td>\n",
              "      <td>0.4956</td>\n",
              "      <td>1.1560</td>\n",
              "      <td>3.445</td>\n",
              "      <td>27.23</td>\n",
              "      <td>0.009110</td>\n",
              "      <td>0.07458</td>\n",
              "      <td>0.05661</td>\n",
              "      <td>0.01867</td>\n",
              "      <td>0.05963</td>\n",
              "      <td>0.009208</td>\n",
              "      <td>14.91</td>\n",
              "      <td>26.50</td>\n",
              "      <td>98.87</td>\n",
              "      <td>567.7</td>\n",
              "      <td>0.2098</td>\n",
              "      <td>0.8663</td>\n",
              "      <td>0.6869</td>\n",
              "      <td>0.2575</td>\n",
              "      <td>0.6638</td>\n",
              "      <td>0.17300</td>\n",
              "      <td>NaN</td>\n",
              "    </tr>\n",
              "    <tr>\n",
              "      <th>4</th>\n",
              "      <td>84358402</td>\n",
              "      <td>M</td>\n",
              "      <td>20.29</td>\n",
              "      <td>14.34</td>\n",
              "      <td>135.10</td>\n",
              "      <td>1297.0</td>\n",
              "      <td>0.10030</td>\n",
              "      <td>0.13280</td>\n",
              "      <td>0.1980</td>\n",
              "      <td>0.10430</td>\n",
              "      <td>0.1809</td>\n",
              "      <td>0.05883</td>\n",
              "      <td>0.7572</td>\n",
              "      <td>0.7813</td>\n",
              "      <td>5.438</td>\n",
              "      <td>94.44</td>\n",
              "      <td>0.011490</td>\n",
              "      <td>0.02461</td>\n",
              "      <td>0.05688</td>\n",
              "      <td>0.01885</td>\n",
              "      <td>0.01756</td>\n",
              "      <td>0.005115</td>\n",
              "      <td>22.54</td>\n",
              "      <td>16.67</td>\n",
              "      <td>152.20</td>\n",
              "      <td>1575.0</td>\n",
              "      <td>0.1374</td>\n",
              "      <td>0.2050</td>\n",
              "      <td>0.4000</td>\n",
              "      <td>0.1625</td>\n",
              "      <td>0.2364</td>\n",
              "      <td>0.07678</td>\n",
              "      <td>NaN</td>\n",
              "    </tr>\n",
              "  </tbody>\n",
              "</table>\n",
              "</div>"
            ],
            "text/plain": [
              "         id diagnosis  ...  fractal_dimension_worst  Unnamed: 32\n",
              "0    842302         M  ...                  0.11890          NaN\n",
              "1    842517         M  ...                  0.08902          NaN\n",
              "2  84300903         M  ...                  0.08758          NaN\n",
              "3  84348301         M  ...                  0.17300          NaN\n",
              "4  84358402         M  ...                  0.07678          NaN\n",
              "\n",
              "[5 rows x 33 columns]"
            ]
          },
          "metadata": {
            "tags": []
          },
          "execution_count": 53
        }
      ]
    },
    {
      "cell_type": "code",
      "metadata": {
        "id": "4MXerSk3OY3A",
        "colab_type": "code",
        "outputId": "8f852f51-8a7c-40f1-990e-1bd10516766e",
        "colab": {
          "base_uri": "https://localhost:8080/",
          "height": 313
        }
      },
      "source": [
        "import seaborn as sns\n",
        "\n",
        "ax = sns.countplot(data['diagnosis'],label='Count')\n",
        "\n",
        "B,M = data['diagnosis'].value_counts()\n",
        "print(\"Benign\",B)\n",
        "print(\"Malignanat\",M)"
      ],
      "execution_count": 0,
      "outputs": [
        {
          "output_type": "stream",
          "text": [
            "Benign 357\n",
            "Malignanat 212\n"
          ],
          "name": "stdout"
        },
        {
          "output_type": "display_data",
          "data": {
            "image/png": "[encoded data removed]",
            "text/plain": [
              "<Figure size 432x288 with 1 Axes>"
            ]
          },
          "metadata": {
            "tags": [],
            "needs_background": "light"
          }
        }
      ]
    },
    {
      "cell_type": "code",
      "metadata": {
        "id": "s2VN1AqRPi6Z",
        "colab_type": "code",
        "colab": {}
      },
      "source": [
        "import pandas as pd\n",
        "import numpy as np\n",
        "import matplotlib.pyplot as plt\n",
        "del data['Unnamed: 32']\n"
      ],
      "execution_count": 0,
      "outputs": []
    },
    {
      "cell_type": "code",
      "metadata": {
        "id": "nCACvyOQSFKX",
        "colab_type": "code",
        "outputId": "610d01ae-ac9f-4125-8eca-39d32b771b5e",
        "colab": {
          "base_uri": "https://localhost:8080/",
          "height": 238
        }
      },
      "source": [
        "X = data.iloc[:, 2:].values\n",
        "y = data.iloc[:, 1].values\n",
        "#encodeing categorical data\n",
        "from sklearn.preprocessing import LabelEncoder\n",
        "obj_label_encode = LabelEncoder()\n",
        "y = obj_label_encode.fit_transform(y)\n",
        "#spllit dataset into Training and testing\n",
        "from sklearn.model_selection import train_test_split\n",
        "X_train,X_testing,y_train,y_test = train_test_split(X,y,test_size=0.2,random_state=0)\n",
        "# Feature scaling\n",
        "\n",
        "from sklearn.preprocessing import  StandardScaler\n",
        "sc = StandardScaler()\n",
        "X_train     = sc.fit_transform(X_train)\n",
        "X_testing   = sc.fit_transform(X_testing)\n",
        "X_train"
      ],
      "execution_count": 0,
      "outputs": [
        {
          "output_type": "execute_result",
          "data": {
            "text/plain": [
              "array([[-1.15036482, -0.39064196, -1.12855021, ..., -0.75798367,\n",
              "        -0.01614761, -0.38503402],\n",
              "       [-0.93798972,  0.68051405, -0.94820146, ..., -0.60687023,\n",
              "         0.09669004, -0.38615797],\n",
              "       [ 0.574121  , -1.03333557,  0.51394098, ..., -0.02371948,\n",
              "        -0.20050207, -0.75144254],\n",
              "       ...,\n",
              "       [-1.32422924, -0.20048168, -1.31754581, ..., -0.97974953,\n",
              "        -0.71542314, -0.11978123],\n",
              "       [-1.24380987, -0.2245526 , -1.28007609, ..., -1.75401433,\n",
              "        -1.58157125, -1.00601779],\n",
              "       [-0.73694129,  1.14989702, -0.71226578, ..., -0.27460457,\n",
              "        -1.25895095,  0.21515662]])"
            ]
          },
          "metadata": {
            "tags": []
          },
          "execution_count": 73
        }
      ]
    },
    {
      "cell_type": "code",
      "metadata": {
        "id": "B0qiE_8qTvM9",
        "colab_type": "code",
        "outputId": "8de5778d-4d96-425c-c249-6967e5a92505",
        "colab": {
          "base_uri": "https://localhost:8080/",
          "height": 238
        }
      },
      "source": [
        "X_testing"
      ],
      "execution_count": 0,
      "outputs": [
        {
          "output_type": "execute_result",
          "data": {
            "text/plain": [
              "array([[-0.22609091,  0.14299357, -0.16219992, ...,  1.33438591,\n",
              "         1.22101459,  1.32977555],\n",
              "       [-0.28072076,  1.13113906, -0.34954245, ..., -0.81952682,\n",
              "        -0.77541863, -0.94570364],\n",
              "       [-0.04782508, -0.87231025, -0.12299829, ..., -0.49120548,\n",
              "        -1.31433312, -0.98696059],\n",
              "       ...,\n",
              "       [ 1.7233322 , -0.06173848,  1.70132185, ...,  1.51554921,\n",
              "         0.25341812, -0.26496405],\n",
              "       [ 1.18565945,  0.15552818,  1.16487847, ...,  0.53103066,\n",
              "         0.32690646, -0.37709831],\n",
              "       [ 0.24545096, -0.64668718,  0.25416267, ..., -0.19956228,\n",
              "        -1.2425945 , -0.01424877]])"
            ]
          },
          "metadata": {
            "tags": []
          },
          "execution_count": 74
        }
      ]
    },
    {
      "cell_type": "code",
      "metadata": {
        "id": "BwJUC7I-VECM",
        "colab_type": "code",
        "colab": {}
      },
      "source": [
        "!pip install keras"
      ],
      "execution_count": 0,
      "outputs": []
    },
    {
      "cell_type": "code",
      "metadata": {
        "id": "dwjfEuj7VYMR",
        "colab_type": "code",
        "colab": {}
      },
      "source": [
        "import keras\n",
        "from keras.models import Sequential\n",
        "from keras.layers import Dense"
      ],
      "execution_count": 0,
      "outputs": []
    },
    {
      "cell_type": "code",
      "metadata": {
        "id": "1Nvqs38nWALs",
        "colab_type": "code",
        "outputId": "64f645eb-9d73-49e0-cf32-42632ad32626",
        "colab": {
          "base_uri": "https://localhost:8080/",
          "height": 139
        }
      },
      "source": [
        "#Adding input with First hidden layer\n",
        "clasifier = Sequential()\n",
        "clasifier.add(Dense(output_dim=16,init='uniform',activation='relu',input_dim=30))\n",
        "#Adding the second hidden layer\n",
        "clasifier.add(Dense(output_dim=16,init='uniform',activation='relu'))\n",
        "#Adding the output layer\n",
        "clasifier.add(Dense(output_dim=1,init='uniform',activation='sigmoid'))"
      ],
      "execution_count": 0,
      "outputs": [
        {
          "output_type": "stream",
          "text": [
            "/usr/local/lib/python3.6/dist-packages/ipykernel_launcher.py:2: UserWarning: Update your `Dense` call to the Keras 2 API: `Dense(activation=\"relu\", input_dim=30, units=16, kernel_initializer=\"uniform\")`\n",
            "  \n",
            "/usr/local/lib/python3.6/dist-packages/ipykernel_launcher.py:4: UserWarning: Update your `Dense` call to the Keras 2 API: `Dense(activation=\"relu\", units=16, kernel_initializer=\"uniform\")`\n",
            "  after removing the cwd from sys.path.\n",
            "/usr/local/lib/python3.6/dist-packages/ipykernel_launcher.py:6: UserWarning: Update your `Dense` call to the Keras 2 API: `Dense(activation=\"sigmoid\", units=1, kernel_initializer=\"uniform\")`\n",
            "  \n"
          ],
          "name": "stderr"
        }
      ]
    },
    {
      "cell_type": "code",
      "metadata": {
        "id": "6SHWlhZeZKkv",
        "colab_type": "code",
        "colab": {}
      },
      "source": [
        "clasifier.compile(optimizer=\"Adam\",loss=\"binary_crossentropy\",metrics=['accuracy'])"
      ],
      "execution_count": 0,
      "outputs": []
    },
    {
      "cell_type": "code",
      "metadata": {
        "id": "E_GcmzOKdTbQ",
        "colab_type": "code",
        "outputId": "1c857852-bf2d-4f41-f023-71e17542ce03",
        "colab": {
          "base_uri": "https://localhost:8080/",
          "height": 1000
        }
      },
      "source": [
        "clasifier.fit(X_train,y_train,batch_size=100,epochs=150)"
      ],
      "execution_count": 0,
      "outputs": [
        {
          "output_type": "stream",
          "text": [
            "Epoch 1/150\n",
            "455/455 [==============================] - 0s 211us/step - loss: 0.6926 - accuracy: 0.7033\n",
            "Epoch 2/150\n",
            "455/455 [==============================] - 0s 19us/step - loss: 0.6910 - accuracy: 0.7538\n",
            "Epoch 3/150\n",
            "455/455 [==============================] - 0s 20us/step - loss: 0.6888 - accuracy: 0.7802\n",
            "Epoch 4/150\n",
            "455/455 [==============================] - 0s 18us/step - loss: 0.6856 - accuracy: 0.8440\n",
            "Epoch 5/150\n",
            "455/455 [==============================] - 0s 19us/step - loss: 0.6807 - accuracy: 0.8901\n",
            "Epoch 6/150\n",
            "455/455 [==============================] - 0s 24us/step - loss: 0.6734 - accuracy: 0.9121\n",
            "Epoch 7/150\n",
            "455/455 [==============================] - 0s 23us/step - loss: 0.6630 - accuracy: 0.9319\n",
            "Epoch 8/150\n",
            "455/455 [==============================] - 0s 26us/step - loss: 0.6489 - accuracy: 0.9363\n",
            "Epoch 9/150\n",
            "455/455 [==============================] - 0s 20us/step - loss: 0.6300 - accuracy: 0.9407\n",
            "Epoch 10/150\n",
            "455/455 [==============================] - 0s 20us/step - loss: 0.6059 - accuracy: 0.9429\n",
            "Epoch 11/150\n",
            "455/455 [==============================] - 0s 24us/step - loss: 0.5773 - accuracy: 0.9473\n",
            "Epoch 12/150\n",
            "455/455 [==============================] - 0s 21us/step - loss: 0.5454 - accuracy: 0.9516\n",
            "Epoch 13/150\n",
            "455/455 [==============================] - 0s 23us/step - loss: 0.5107 - accuracy: 0.9560\n",
            "Epoch 14/150\n",
            "455/455 [==============================] - 0s 20us/step - loss: 0.4746 - accuracy: 0.9582\n",
            "Epoch 15/150\n",
            "455/455 [==============================] - 0s 20us/step - loss: 0.4389 - accuracy: 0.9626\n",
            "Epoch 16/150\n",
            "455/455 [==============================] - 0s 20us/step - loss: 0.4035 - accuracy: 0.9626\n",
            "Epoch 17/150\n",
            "455/455 [==============================] - 0s 19us/step - loss: 0.3696 - accuracy: 0.9670\n",
            "Epoch 18/150\n",
            "455/455 [==============================] - 0s 19us/step - loss: 0.3372 - accuracy: 0.9670\n",
            "Epoch 19/150\n",
            "455/455 [==============================] - 0s 20us/step - loss: 0.3057 - accuracy: 0.9692\n",
            "Epoch 20/150\n",
            "455/455 [==============================] - 0s 24us/step - loss: 0.2772 - accuracy: 0.9714\n",
            "Epoch 21/150\n",
            "455/455 [==============================] - 0s 25us/step - loss: 0.2510 - accuracy: 0.9714\n",
            "Epoch 22/150\n",
            "455/455 [==============================] - 0s 24us/step - loss: 0.2270 - accuracy: 0.9736\n",
            "Epoch 23/150\n",
            "455/455 [==============================] - 0s 23us/step - loss: 0.2064 - accuracy: 0.9736\n",
            "Epoch 24/150\n",
            "455/455 [==============================] - 0s 25us/step - loss: 0.1880 - accuracy: 0.9736\n",
            "Epoch 25/150\n",
            "455/455 [==============================] - 0s 21us/step - loss: 0.1723 - accuracy: 0.9736\n",
            "Epoch 26/150\n",
            "455/455 [==============================] - 0s 23us/step - loss: 0.1586 - accuracy: 0.9736\n",
            "Epoch 27/150\n",
            "455/455 [==============================] - 0s 21us/step - loss: 0.1470 - accuracy: 0.9736\n",
            "Epoch 28/150\n",
            "455/455 [==============================] - 0s 20us/step - loss: 0.1369 - accuracy: 0.9758\n",
            "Epoch 29/150\n",
            "455/455 [==============================] - 0s 21us/step - loss: 0.1278 - accuracy: 0.9780\n",
            "Epoch 30/150\n",
            "455/455 [==============================] - 0s 21us/step - loss: 0.1200 - accuracy: 0.9780\n",
            "Epoch 31/150\n",
            "455/455 [==============================] - 0s 23us/step - loss: 0.1131 - accuracy: 0.9780\n",
            "Epoch 32/150\n",
            "455/455 [==============================] - 0s 20us/step - loss: 0.1071 - accuracy: 0.9824\n",
            "Epoch 33/150\n",
            "455/455 [==============================] - 0s 19us/step - loss: 0.1008 - accuracy: 0.9824\n",
            "Epoch 34/150\n",
            "455/455 [==============================] - 0s 21us/step - loss: 0.0962 - accuracy: 0.9824\n",
            "Epoch 35/150\n",
            "455/455 [==============================] - 0s 20us/step - loss: 0.0922 - accuracy: 0.9824\n",
            "Epoch 36/150\n",
            "455/455 [==============================] - 0s 21us/step - loss: 0.0881 - accuracy: 0.9824\n",
            "Epoch 37/150\n",
            "455/455 [==============================] - 0s 20us/step - loss: 0.0849 - accuracy: 0.9824\n",
            "Epoch 38/150\n",
            "455/455 [==============================] - 0s 21us/step - loss: 0.0820 - accuracy: 0.9846\n",
            "Epoch 39/150\n",
            "455/455 [==============================] - 0s 21us/step - loss: 0.0795 - accuracy: 0.9846\n",
            "Epoch 40/150\n",
            "455/455 [==============================] - 0s 24us/step - loss: 0.0773 - accuracy: 0.9846\n",
            "Epoch 41/150\n",
            "455/455 [==============================] - 0s 28us/step - loss: 0.0752 - accuracy: 0.9846\n",
            "Epoch 42/150\n",
            "455/455 [==============================] - 0s 24us/step - loss: 0.0735 - accuracy: 0.9846\n",
            "Epoch 43/150\n",
            "455/455 [==============================] - 0s 22us/step - loss: 0.0718 - accuracy: 0.9846\n",
            "Epoch 44/150\n",
            "455/455 [==============================] - 0s 21us/step - loss: 0.0703 - accuracy: 0.9846\n",
            "Epoch 45/150\n",
            "455/455 [==============================] - 0s 23us/step - loss: 0.0690 - accuracy: 0.9846\n",
            "Epoch 46/150\n",
            "455/455 [==============================] - 0s 22us/step - loss: 0.0677 - accuracy: 0.9846\n",
            "Epoch 47/150\n",
            "455/455 [==============================] - 0s 23us/step - loss: 0.0665 - accuracy: 0.9846\n",
            "Epoch 48/150\n",
            "455/455 [==============================] - 0s 22us/step - loss: 0.0654 - accuracy: 0.9890\n",
            "Epoch 49/150\n",
            "455/455 [==============================] - 0s 22us/step - loss: 0.0644 - accuracy: 0.9890\n",
            "Epoch 50/150\n",
            "455/455 [==============================] - 0s 21us/step - loss: 0.0633 - accuracy: 0.9890\n",
            "Epoch 51/150\n",
            "455/455 [==============================] - 0s 21us/step - loss: 0.0624 - accuracy: 0.9890\n",
            "Epoch 52/150\n",
            "455/455 [==============================] - 0s 20us/step - loss: 0.0615 - accuracy: 0.9890\n",
            "Epoch 53/150\n",
            "455/455 [==============================] - 0s 19us/step - loss: 0.0607 - accuracy: 0.9890\n",
            "Epoch 54/150\n",
            "455/455 [==============================] - 0s 22us/step - loss: 0.0599 - accuracy: 0.9890\n",
            "Epoch 55/150\n",
            "455/455 [==============================] - 0s 24us/step - loss: 0.0592 - accuracy: 0.9890\n",
            "Epoch 56/150\n",
            "455/455 [==============================] - 0s 28us/step - loss: 0.0586 - accuracy: 0.9890\n",
            "Epoch 57/150\n",
            "455/455 [==============================] - 0s 22us/step - loss: 0.0579 - accuracy: 0.9890\n",
            "Epoch 58/150\n",
            "455/455 [==============================] - 0s 25us/step - loss: 0.0573 - accuracy: 0.9890\n",
            "Epoch 59/150\n",
            "455/455 [==============================] - 0s 26us/step - loss: 0.0566 - accuracy: 0.9890\n",
            "Epoch 60/150\n",
            "455/455 [==============================] - 0s 23us/step - loss: 0.0560 - accuracy: 0.9890\n",
            "Epoch 61/150\n",
            "455/455 [==============================] - 0s 24us/step - loss: 0.0555 - accuracy: 0.9890\n",
            "Epoch 62/150\n",
            "455/455 [==============================] - 0s 27us/step - loss: 0.0549 - accuracy: 0.9890\n",
            "Epoch 63/150\n",
            "455/455 [==============================] - 0s 20us/step - loss: 0.0544 - accuracy: 0.9890\n",
            "Epoch 64/150\n",
            "455/455 [==============================] - 0s 21us/step - loss: 0.0539 - accuracy: 0.9890\n",
            "Epoch 65/150\n",
            "455/455 [==============================] - 0s 22us/step - loss: 0.0533 - accuracy: 0.9890\n",
            "Epoch 66/150\n",
            "455/455 [==============================] - 0s 22us/step - loss: 0.0528 - accuracy: 0.9890\n",
            "Epoch 67/150\n",
            "455/455 [==============================] - 0s 22us/step - loss: 0.0524 - accuracy: 0.9890\n",
            "Epoch 68/150\n",
            "455/455 [==============================] - 0s 23us/step - loss: 0.0520 - accuracy: 0.9890\n",
            "Epoch 69/150\n",
            "455/455 [==============================] - 0s 23us/step - loss: 0.0514 - accuracy: 0.9890\n",
            "Epoch 70/150\n",
            "455/455 [==============================] - 0s 20us/step - loss: 0.0510 - accuracy: 0.9890\n",
            "Epoch 71/150\n",
            "455/455 [==============================] - 0s 21us/step - loss: 0.0505 - accuracy: 0.9890\n",
            "Epoch 72/150\n",
            "455/455 [==============================] - 0s 22us/step - loss: 0.0501 - accuracy: 0.9890\n",
            "Epoch 73/150\n",
            "455/455 [==============================] - 0s 22us/step - loss: 0.0496 - accuracy: 0.9890\n",
            "Epoch 74/150\n",
            "455/455 [==============================] - 0s 24us/step - loss: 0.0492 - accuracy: 0.9890\n",
            "Epoch 75/150\n",
            "455/455 [==============================] - 0s 24us/step - loss: 0.0488 - accuracy: 0.9890\n",
            "Epoch 76/150\n",
            "455/455 [==============================] - 0s 23us/step - loss: 0.0485 - accuracy: 0.9890\n",
            "Epoch 77/150\n",
            "455/455 [==============================] - 0s 25us/step - loss: 0.0481 - accuracy: 0.9890\n",
            "Epoch 78/150\n",
            "455/455 [==============================] - 0s 21us/step - loss: 0.0476 - accuracy: 0.9890\n",
            "Epoch 79/150\n",
            "455/455 [==============================] - 0s 21us/step - loss: 0.0472 - accuracy: 0.9890\n",
            "Epoch 80/150\n",
            "455/455 [==============================] - 0s 23us/step - loss: 0.0469 - accuracy: 0.9890\n",
            "Epoch 81/150\n",
            "455/455 [==============================] - 0s 24us/step - loss: 0.0466 - accuracy: 0.9890\n",
            "Epoch 82/150\n",
            "455/455 [==============================] - 0s 25us/step - loss: 0.0462 - accuracy: 0.9890\n",
            "Epoch 83/150\n",
            "455/455 [==============================] - 0s 19us/step - loss: 0.0458 - accuracy: 0.9890\n",
            "Epoch 84/150\n",
            "455/455 [==============================] - 0s 27us/step - loss: 0.0455 - accuracy: 0.9890\n",
            "Epoch 85/150\n",
            "455/455 [==============================] - 0s 22us/step - loss: 0.0451 - accuracy: 0.9912\n",
            "Epoch 86/150\n",
            "455/455 [==============================] - 0s 24us/step - loss: 0.0448 - accuracy: 0.9912\n",
            "Epoch 87/150\n",
            "455/455 [==============================] - 0s 17us/step - loss: 0.0445 - accuracy: 0.9912\n",
            "Epoch 88/150\n",
            "455/455 [==============================] - 0s 21us/step - loss: 0.0441 - accuracy: 0.9912\n",
            "Epoch 89/150\n",
            "455/455 [==============================] - 0s 21us/step - loss: 0.0437 - accuracy: 0.9912\n",
            "Epoch 90/150\n",
            "455/455 [==============================] - 0s 24us/step - loss: 0.0434 - accuracy: 0.9912\n",
            "Epoch 91/150\n",
            "455/455 [==============================] - 0s 27us/step - loss: 0.0431 - accuracy: 0.9912\n",
            "Epoch 92/150\n",
            "455/455 [==============================] - 0s 25us/step - loss: 0.0428 - accuracy: 0.9912\n",
            "Epoch 93/150\n",
            "455/455 [==============================] - 0s 20us/step - loss: 0.0425 - accuracy: 0.9912\n",
            "Epoch 94/150\n",
            "455/455 [==============================] - 0s 38us/step - loss: 0.0422 - accuracy: 0.9912\n",
            "Epoch 95/150\n",
            "455/455 [==============================] - 0s 27us/step - loss: 0.0419 - accuracy: 0.9912\n",
            "Epoch 96/150\n",
            "455/455 [==============================] - 0s 27us/step - loss: 0.0416 - accuracy: 0.9912\n",
            "Epoch 97/150\n",
            "455/455 [==============================] - 0s 26us/step - loss: 0.0414 - accuracy: 0.9912\n",
            "Epoch 98/150\n",
            "455/455 [==============================] - 0s 26us/step - loss: 0.0411 - accuracy: 0.9912\n",
            "Epoch 99/150\n",
            "455/455 [==============================] - 0s 22us/step - loss: 0.0408 - accuracy: 0.9912\n",
            "Epoch 100/150\n",
            "455/455 [==============================] - 0s 21us/step - loss: 0.0405 - accuracy: 0.9912\n",
            "Epoch 101/150\n",
            "455/455 [==============================] - 0s 21us/step - loss: 0.0402 - accuracy: 0.9912\n",
            "Epoch 102/150\n",
            "455/455 [==============================] - 0s 26us/step - loss: 0.0399 - accuracy: 0.9912\n",
            "Epoch 103/150\n",
            "455/455 [==============================] - 0s 22us/step - loss: 0.0396 - accuracy: 0.9912\n",
            "Epoch 104/150\n",
            "455/455 [==============================] - 0s 17us/step - loss: 0.0393 - accuracy: 0.9912\n",
            "Epoch 105/150\n",
            "455/455 [==============================] - 0s 21us/step - loss: 0.0390 - accuracy: 0.9912\n",
            "Epoch 106/150\n",
            "455/455 [==============================] - 0s 22us/step - loss: 0.0388 - accuracy: 0.9912\n",
            "Epoch 107/150\n",
            "455/455 [==============================] - 0s 21us/step - loss: 0.0385 - accuracy: 0.9912\n",
            "Epoch 108/150\n",
            "455/455 [==============================] - 0s 28us/step - loss: 0.0382 - accuracy: 0.9912\n",
            "Epoch 109/150\n",
            "455/455 [==============================] - 0s 24us/step - loss: 0.0379 - accuracy: 0.9912\n",
            "Epoch 110/150\n",
            "455/455 [==============================] - 0s 23us/step - loss: 0.0375 - accuracy: 0.9912\n",
            "Epoch 111/150\n",
            "455/455 [==============================] - 0s 22us/step - loss: 0.0373 - accuracy: 0.9912\n",
            "Epoch 112/150\n",
            "455/455 [==============================] - 0s 22us/step - loss: 0.0370 - accuracy: 0.9912\n",
            "Epoch 113/150\n",
            "455/455 [==============================] - 0s 23us/step - loss: 0.0368 - accuracy: 0.9912\n",
            "Epoch 114/150\n",
            "455/455 [==============================] - 0s 22us/step - loss: 0.0365 - accuracy: 0.9912\n",
            "Epoch 115/150\n",
            "455/455 [==============================] - 0s 21us/step - loss: 0.0363 - accuracy: 0.9912\n",
            "Epoch 116/150\n",
            "455/455 [==============================] - 0s 21us/step - loss: 0.0360 - accuracy: 0.9912\n",
            "Epoch 117/150\n",
            "455/455 [==============================] - 0s 24us/step - loss: 0.0358 - accuracy: 0.9912\n",
            "Epoch 118/150\n",
            "455/455 [==============================] - 0s 23us/step - loss: 0.0355 - accuracy: 0.9912\n",
            "Epoch 119/150\n",
            "455/455 [==============================] - 0s 24us/step - loss: 0.0353 - accuracy: 0.9912\n",
            "Epoch 120/150\n",
            "455/455 [==============================] - 0s 20us/step - loss: 0.0350 - accuracy: 0.9912\n",
            "Epoch 121/150\n",
            "455/455 [==============================] - 0s 22us/step - loss: 0.0348 - accuracy: 0.9912\n",
            "Epoch 122/150\n",
            "455/455 [==============================] - 0s 21us/step - loss: 0.0346 - accuracy: 0.9912\n",
            "Epoch 123/150\n",
            "455/455 [==============================] - 0s 25us/step - loss: 0.0343 - accuracy: 0.9912\n",
            "Epoch 124/150\n",
            "455/455 [==============================] - 0s 21us/step - loss: 0.0341 - accuracy: 0.9912\n",
            "Epoch 125/150\n",
            "455/455 [==============================] - 0s 25us/step - loss: 0.0338 - accuracy: 0.9912\n",
            "Epoch 126/150\n",
            "455/455 [==============================] - 0s 26us/step - loss: 0.0336 - accuracy: 0.9912\n",
            "Epoch 127/150\n",
            "455/455 [==============================] - 0s 22us/step - loss: 0.0334 - accuracy: 0.9912\n",
            "Epoch 128/150\n",
            "455/455 [==============================] - 0s 24us/step - loss: 0.0332 - accuracy: 0.9912\n",
            "Epoch 129/150\n",
            "455/455 [==============================] - 0s 27us/step - loss: 0.0329 - accuracy: 0.9912\n",
            "Epoch 130/150\n",
            "455/455 [==============================] - 0s 19us/step - loss: 0.0327 - accuracy: 0.9912\n",
            "Epoch 131/150\n",
            "455/455 [==============================] - 0s 21us/step - loss: 0.0325 - accuracy: 0.9912\n",
            "Epoch 132/150\n",
            "455/455 [==============================] - 0s 20us/step - loss: 0.0323 - accuracy: 0.9912\n",
            "Epoch 133/150\n",
            "455/455 [==============================] - 0s 25us/step - loss: 0.0320 - accuracy: 0.9912\n",
            "Epoch 134/150\n",
            "455/455 [==============================] - 0s 21us/step - loss: 0.0318 - accuracy: 0.9912\n",
            "Epoch 135/150\n",
            "455/455 [==============================] - 0s 22us/step - loss: 0.0316 - accuracy: 0.9912\n",
            "Epoch 136/150\n",
            "455/455 [==============================] - 0s 21us/step - loss: 0.0314 - accuracy: 0.9912\n",
            "Epoch 137/150\n",
            "455/455 [==============================] - 0s 31us/step - loss: 0.0312 - accuracy: 0.9912\n",
            "Epoch 138/150\n",
            "455/455 [==============================] - 0s 22us/step - loss: 0.0309 - accuracy: 0.9912\n",
            "Epoch 139/150\n",
            "455/455 [==============================] - 0s 23us/step - loss: 0.0307 - accuracy: 0.9912\n",
            "Epoch 140/150\n",
            "455/455 [==============================] - 0s 27us/step - loss: 0.0306 - accuracy: 0.9912\n",
            "Epoch 141/150\n",
            "455/455 [==============================] - 0s 23us/step - loss: 0.0303 - accuracy: 0.9912\n",
            "Epoch 142/150\n",
            "455/455 [==============================] - 0s 23us/step - loss: 0.0301 - accuracy: 0.9912\n",
            "Epoch 143/150\n",
            "455/455 [==============================] - 0s 22us/step - loss: 0.0299 - accuracy: 0.9912\n",
            "Epoch 144/150\n",
            "455/455 [==============================] - 0s 20us/step - loss: 0.0297 - accuracy: 0.9912\n",
            "Epoch 145/150\n",
            "455/455 [==============================] - 0s 23us/step - loss: 0.0295 - accuracy: 0.9912\n",
            "Epoch 146/150\n",
            "455/455 [==============================] - 0s 22us/step - loss: 0.0293 - accuracy: 0.9912\n",
            "Epoch 147/150\n",
            "455/455 [==============================] - 0s 27us/step - loss: 0.0291 - accuracy: 0.9912\n",
            "Epoch 148/150\n",
            "455/455 [==============================] - 0s 24us/step - loss: 0.0288 - accuracy: 0.9912\n",
            "Epoch 149/150\n",
            "455/455 [==============================] - 0s 22us/step - loss: 0.0286 - accuracy: 0.9912\n",
            "Epoch 150/150\n",
            "455/455 [==============================] - 0s 21us/step - loss: 0.0284 - accuracy: 0.9912\n"
          ],
          "name": "stdout"
        },
        {
          "output_type": "execute_result",
          "data": {
            "text/plain": [
              "<keras.callbacks.callbacks.History at 0x7f77df1a2358>"
            ]
          },
          "metadata": {
            "tags": []
          },
          "execution_count": 78
        }
      ]
    },
    {
      "cell_type": "code",
      "metadata": {
        "id": "NnYuu1XfeG7g",
        "colab_type": "code",
        "outputId": "2e11b7c4-ecbd-4a55-fa73-9a61ffea5916",
        "colab": {
          "base_uri": "https://localhost:8080/",
          "height": 238
        }
      },
      "source": [
        "X_testing"
      ],
      "execution_count": 0,
      "outputs": [
        {
          "output_type": "execute_result",
          "data": {
            "text/plain": [
              "array([[-0.22609091,  0.14299357, -0.16219992, ...,  1.33438591,\n",
              "         1.22101459,  1.32977555],\n",
              "       [-0.28072076,  1.13113906, -0.34954245, ..., -0.81952682,\n",
              "        -0.77541863, -0.94570364],\n",
              "       [-0.04782508, -0.87231025, -0.12299829, ..., -0.49120548,\n",
              "        -1.31433312, -0.98696059],\n",
              "       ...,\n",
              "       [ 1.7233322 , -0.06173848,  1.70132185, ...,  1.51554921,\n",
              "         0.25341812, -0.26496405],\n",
              "       [ 1.18565945,  0.15552818,  1.16487847, ...,  0.53103066,\n",
              "         0.32690646, -0.37709831],\n",
              "       [ 0.24545096, -0.64668718,  0.25416267, ..., -0.19956228,\n",
              "        -1.2425945 , -0.01424877]])"
            ]
          },
          "metadata": {
            "tags": []
          },
          "execution_count": 79
        }
      ]
    },
    {
      "cell_type": "code",
      "metadata": {
        "id": "Ced-ABWngzKU",
        "colab_type": "code",
        "colab": {}
      },
      "source": [
        "#Predicting The test set result\n",
        "\n",
        "y_pred = clasifier.predict(X_testing)\n",
        "y_pred = (y_pred>0.5)"
      ],
      "execution_count": 0,
      "outputs": []
    },
    {
      "cell_type": "code",
      "metadata": {
        "id": "qif0yeZ6hPxV",
        "colab_type": "code",
        "outputId": "83e5e2ee-6d53-431b-e300-41f1785792fc",
        "colab": {
          "base_uri": "https://localhost:8080/",
          "height": 51
        }
      },
      "source": [
        "from sklearn.metrics import confusion_matrix\n",
        "cm = confusion_matrix(y_test,y_pred)\n",
        "cm"
      ],
      "execution_count": 0,
      "outputs": [
        {
          "output_type": "execute_result",
          "data": {
            "text/plain": [
              "array([[65,  2],\n",
              "       [ 3, 44]])"
            ]
          },
          "metadata": {
            "tags": []
          },
          "execution_count": 81
        }
      ]
    },
    {
      "cell_type": "code",
      "metadata": {
        "id": "1WBoW8bThmG5",
        "colab_type": "code",
        "outputId": "3396423b-b72f-4c4f-e4b8-e4efb04970c6",
        "colab": {
          "base_uri": "https://localhost:8080/",
          "height": 265
        }
      },
      "source": [
        "sns.heatmap(cm,annot=True)\n",
        "plt.savefig('h.png')"
      ],
      "execution_count": 0,
      "outputs": [
        {
          "output_type": "display_data",
          "data": {
            "image/png": "[encoded data removed]",
            "text/plain": [
              "<Figure size 432x288 with 2 Axes>"
            ]
          },
          "metadata": {
            "tags": [],
            "needs_background": "light"
          }
        }
      ]
    },
    {
      "cell_type": "code",
      "metadata": {
        "id": "CvhY4V25i4X6",
        "colab_type": "code",
        "colab": {}
      },
      "source": [
        ""
      ],
      "execution_count": 0,
      "outputs": []
    }
  ]
}