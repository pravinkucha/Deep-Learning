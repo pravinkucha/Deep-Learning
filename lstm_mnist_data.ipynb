{
  "nbformat": 4,
  "nbformat_minor": 0,
  "metadata": {
    "colab": {
      "name": "lstm_mnist_data.ipynb",
      "provenance": [],
      "collapsed_sections": [],
      "authorship_tag": "ABX9TyOZb68EeXirm0g538UZqGjw",
      "include_colab_link": true
    },
    "kernelspec": {
      "name": "python3",
      "display_name": "Python 3"
    },
    "accelerator": "GPU"
  },
  "cells": [
    {
      "cell_type": "markdown",
      "metadata": {
        "id": "view-in-github",
        "colab_type": "text"
      },
      "source": [
        "<a href=\"https://colab.research.google.com/github/pravinkucha/Deep-Learning/blob/master/lstm_mnist_data.ipynb\" target=\"_parent\"><img src=\"https://colab.research.google.com/assets/colab-badge.svg\" alt=\"Open In Colab\"/></a>"
      ]
    },
    {
      "cell_type": "code",
      "metadata": {
        "id": "cOVE3H0rzPcI",
        "colab_type": "code",
        "colab": {
          "base_uri": "https://localhost:8080/",
          "height": 34
        },
        "outputId": "114b9783-67be-460b-a7b9-343714c2b361"
      },
      "source": [
        "from keras.datasets import mnist\n",
        "from keras.models import Model\n",
        "from keras.layers import Dense,TimeDistributed,Input, LSTM\n",
        "from keras.utils import to_categorical\n",
        "import numpy as np"
      ],
      "execution_count": 1,
      "outputs": [
        {
          "output_type": "stream",
          "text": [
            "Using TensorFlow backend.\n"
          ],
          "name": "stderr"
        }
      ]
    },
    {
      "cell_type": "code",
      "metadata": {
        "id": "oZOu3w1R5lYW",
        "colab_type": "code",
        "colab": {
          "base_uri": "https://localhost:8080/",
          "height": 68
        },
        "outputId": "09a1c8df-5578-4a00-8d62-89d0de5ef046"
      },
      "source": [
        "#SET VARIABLE\n",
        "batch_size  = 32\n",
        "num_classes = 10\n",
        "epochs      = 5\n",
        "row         = 28\n",
        "col         = 28\n",
        "\n",
        "(X_train,y_train),(X_test,y_test) = mnist.load_data()\n",
        "y_test[1]"
      ],
      "execution_count": 2,
      "outputs": [
        {
          "output_type": "stream",
          "text": [
            "Downloading data from https://s3.amazonaws.com/img-datasets/mnist.npz\n",
            "11493376/11490434 [==============================] - 1s 0us/step\n"
          ],
          "name": "stdout"
        },
        {
          "output_type": "execute_result",
          "data": {
            "text/plain": [
              "2"
            ]
          },
          "metadata": {
            "tags": []
          },
          "execution_count": 2
        }
      ]
    },
    {
      "cell_type": "code",
      "metadata": {
        "id": "G1iTZMn29Wy3",
        "colab_type": "code",
        "colab": {}
      },
      "source": [
        "X_train = X_train.reshape(X_train.shape[0],row,row,1)\n",
        "X_test  = X_test.reshape(X_test.shape[0],row,row,1)\n",
        "X_train = X_train.astype('float32')\n",
        "X_test  = X_test.astype('float32')\n",
        "\n",
        "X_train /= 255\n",
        "X_test  /= 255"
      ],
      "execution_count": 0,
      "outputs": []
    },
    {
      "cell_type": "code",
      "metadata": {
        "id": "81-PeUVA-7aS",
        "colab_type": "code",
        "colab": {}
      },
      "source": [
        "#Convert Class Vector to Binary class \n",
        "y_train = to_categorical(y_train,num_classes)\n",
        "y_test  = to_categorical(y_test,num_classes)"
      ],
      "execution_count": 0,
      "outputs": []
    },
    {
      "cell_type": "code",
      "metadata": {
        "id": "zwblw6dwBLOo",
        "colab_type": "code",
        "colab": {}
      },
      "source": [
        "inputs = Input(shape=(row,col,1))\n",
        "encoded_row = TimeDistributed(LSTM(row))(inputs)\n",
        "encoded_column = LSTM(col)(encoded_row)"
      ],
      "execution_count": 0,
      "outputs": []
    },
    {
      "cell_type": "code",
      "metadata": {
        "id": "C7X_ZVLvCV1i",
        "colab_type": "code",
        "colab": {}
      },
      "source": [
        "outputs = Dense(num_classes,activation='softmax')(encoded_column)\n",
        "obj_model = Model(inputs,outputs)\n",
        "obj_model.compile(loss='categorical_crossentropy',optimizer='rmsprop',metrics=['accuracy'])"
      ],
      "execution_count": 0,
      "outputs": []
    },
    {
      "cell_type": "code",
      "metadata": {
        "id": "eG3DvaaMDfvu",
        "colab_type": "code",
        "colab": {
          "base_uri": "https://localhost:8080/",
          "height": 221
        },
        "outputId": "47bc9cb5-d524-421d-f874-875d9811fe18"
      },
      "source": [
        "obj_model.fit(X_train, y_train,batch_size=batch_size, epochs=epochs, verbose=1, validation_data=(X_test, y_test))"
      ],
      "execution_count": 7,
      "outputs": [
        {
          "output_type": "stream",
          "text": [
            "Train on 60000 samples, validate on 10000 samples\n",
            "Epoch 1/5\n",
            "60000/60000 [==============================] - 177s 3ms/step - loss: 0.8674 - accuracy: 0.7071 - val_loss: 0.3786 - val_accuracy: 0.8816\n",
            "Epoch 2/5\n",
            "60000/60000 [==============================] - 174s 3ms/step - loss: 0.3162 - accuracy: 0.9031 - val_loss: 0.2134 - val_accuracy: 0.9364\n",
            "Epoch 3/5\n",
            "60000/60000 [==============================] - 171s 3ms/step - loss: 0.1977 - accuracy: 0.9401 - val_loss: 0.1373 - val_accuracy: 0.9585\n",
            "Epoch 4/5\n",
            "60000/60000 [==============================] - 171s 3ms/step - loss: 0.1454 - accuracy: 0.9562 - val_loss: 0.1093 - val_accuracy: 0.9677\n",
            "Epoch 5/5\n",
            "60000/60000 [==============================] - 172s 3ms/step - loss: 0.1160 - accuracy: 0.9653 - val_loss: 0.1164 - val_accuracy: 0.9612\n"
          ],
          "name": "stdout"
        },
        {
          "output_type": "execute_result",
          "data": {
            "text/plain": [
              "<keras.callbacks.callbacks.History at 0x7f2eebc00cf8>"
            ]
          },
          "metadata": {
            "tags": []
          },
          "execution_count": 7
        }
      ]
    },
    {
      "cell_type": "code",
      "metadata": {
        "id": "O52fd4qHH_bP",
        "colab_type": "code",
        "colab": {
          "base_uri": "https://localhost:8080/",
          "height": 51
        },
        "outputId": "d5018836-b990-439e-e85b-6b61c9539d86"
      },
      "source": [
        "scores = obj_model.evaluate(X_test,y_test,verbose=0)\n",
        "print(\"Test Loss :\",scores[0])\n",
        "print(\"Test accuracy :\",scores[1])"
      ],
      "execution_count": 8,
      "outputs": [
        {
          "output_type": "stream",
          "text": [
            "Test Loss : 0.11636150494217873\n",
            "Test accuracy : 0.9611999988555908\n"
          ],
          "name": "stdout"
        }
      ]
    },
    {
      "cell_type": "code",
      "metadata": {
        "id": "iyGzRH41LVWM",
        "colab_type": "code",
        "colab": {}
      },
      "source": [
        ""
      ],
      "execution_count": 0,
      "outputs": []
    }
  ]
}