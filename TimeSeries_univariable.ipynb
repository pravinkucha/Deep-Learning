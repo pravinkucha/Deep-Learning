{
  "nbformat": 4,
  "nbformat_minor": 0,
  "metadata": {
    "colab": {
      "name": "TimeSeries_univariable.ipynb",
      "provenance": [],
      "collapsed_sections": [],
      "authorship_tag": "ABX9TyNgLyLHBsWOWKczFiuTOs3x",
      "include_colab_link": true
    },
    "kernelspec": {
      "name": "python3",
      "display_name": "Python 3"
    }
  },
  "cells": [
    {
      "cell_type": "markdown",
      "metadata": {
        "id": "view-in-github",
        "colab_type": "text"
      },
      "source": [
        "<a href=\"https://colab.research.google.com/github/pravinkucha/Deep-Learning/blob/master/TimeSeries_univariable.ipynb\" target=\"_parent\"><img src=\"https://colab.research.google.com/assets/colab-badge.svg\" alt=\"Open In Colab\"/></a>"
      ]
    },
    {
      "cell_type": "code",
      "metadata": {
        "id": "7dn3bfKwlaDr",
        "colab_type": "code",
        "colab": {
          "base_uri": "https://localhost:8080/",
          "height": 34
        },
        "outputId": "ebc17adc-b3d6-4431-fcde-b472065214d6"
      },
      "source": [
        "from keras.models import Sequential\n",
        "from keras.layers import LSTM\n",
        "from keras.layers import Dense\n",
        "from keras.layers import Flatten\n",
        "import numpy as np\n",
        "\n",
        "#Data splite dependent and independent\n",
        "def fn_prepare_data(data,step):\n",
        "  X,y = [],[]\n",
        "  for i in range(len(data)):\n",
        "    idx_end = step + i\n",
        "    if idx_end > len(data)-1 :\n",
        "      break;\n",
        "    x_seq,y_seq = data[i:idx_end],data[idx_end]\n",
        "    X.append(x_seq)\n",
        "    y.append(y_seq)\n",
        "  return np.array(X),np.array(y)"
      ],
      "execution_count": 1,
      "outputs": [
        {
          "output_type": "stream",
          "text": [
            "Using TensorFlow backend.\n"
          ],
          "name": "stderr"
        }
      ]
    },
    {
      "cell_type": "code",
      "metadata": {
        "id": "m_kpfC1RmHqp",
        "colab_type": "code",
        "colab": {
          "base_uri": "https://localhost:8080/",
          "height": 187
        },
        "outputId": "3d6c7673-ff70-41eb-db3e-b1717b490310"
      },
      "source": [
        "#Input sequent data define\n",
        "#TimeSeries_data = [110,125,133,146,158,172,187,196,210]\n",
        "TimeSeries_data = [105,112,120,135,150,170,185,197,210,230]\n",
        "#Define Time step\n",
        "step = 3\n",
        "#Define Feature\n",
        "n_feature = 1\n",
        "#Splite data into independent and dependent\n",
        "X , y = fn_prepare_data(TimeSeries_data,step)\n",
        "print(X)\n",
        "print(X.shape)\n",
        "print(y)\n",
        "print(y.shape)\n",
        "\n"
      ],
      "execution_count": 2,
      "outputs": [
        {
          "output_type": "stream",
          "text": [
            "[[105 112 120]\n",
            " [112 120 135]\n",
            " [120 135 150]\n",
            " [135 150 170]\n",
            " [150 170 185]\n",
            " [170 185 197]\n",
            " [185 197 210]]\n",
            "(7, 3)\n",
            "[135 150 170 185 197 210 230]\n",
            "(7,)\n"
          ],
          "name": "stdout"
        }
      ]
    },
    {
      "cell_type": "code",
      "metadata": {
        "id": "RNBl-zwXoJi2",
        "colab_type": "code",
        "colab": {
          "base_uri": "https://localhost:8080/",
          "height": 34
        },
        "outputId": "477209c1-ac54-4cb7-ef50-3370a8db056e"
      },
      "source": [
        "#reshape input data in [samples,step,feature]\n",
        "X = X.reshape(X.shape[0],X.shape[1],n_feature)\n",
        "X.shape"
      ],
      "execution_count": 3,
      "outputs": [
        {
          "output_type": "execute_result",
          "data": {
            "text/plain": [
              "(7, 3, 1)"
            ]
          },
          "metadata": {
            "tags": []
          },
          "execution_count": 3
        }
      ]
    },
    {
      "cell_type": "code",
      "metadata": {
        "id": "KzRG0-xRtnct",
        "colab_type": "code",
        "colab": {}
      },
      "source": [
        "#Build LSTM Modle\n",
        "obj_model = Sequential()\n",
        "obj_model.add(LSTM(50,activation='relu',return_sequences=True,input_shape=(step,n_feature)))\n",
        "obj_model.add(LSTM(50,activation='relu'))\n",
        "obj_model.add(Dense(1))\n",
        "obj_model.compile(optimizer='adam',loss='mse')\n",
        "obj_model.fit(X,y,epochs=300,verbose=1)"
      ],
      "execution_count": 0,
      "outputs": []
    },
    {
      "cell_type": "code",
      "metadata": {
        "id": "YuJ1QEDTvWf7",
        "colab_type": "code",
        "colab": {
          "base_uri": "https://localhost:8080/",
          "height": 221
        },
        "outputId": "39015557-71ba-4740-dd82-0c5cfebfb87a"
      },
      "source": [
        "#Predication for next 10 days data\n",
        "x_input = np.array([197,210,230])\n",
        "predct_data = []\n",
        "temp_input = list(x_input)\n",
        "i = 0\n",
        "while i < 10 :\n",
        "  if len(temp_input) > 3:\n",
        "    #Format \n",
        "    x_input = np.array(temp_input[i:])\n",
        "    print(x_input)\n",
        "    x_input = x_input.reshape(1,step,n_feature)\n",
        "    y_pred  = obj_model.predict(x_input)\n",
        "    predct_data.append(int(y_pred[0][0]))\n",
        "    temp_input.append(int(y_pred[0][0]))   \n",
        "  else:\n",
        "    print(x_input)\n",
        "    x_input = x_input.reshape(1,step,n_feature)\n",
        "    y_pred  = obj_model.predict(x_input)\n",
        "    predct_data.append(int(y_pred[0][0]))\n",
        "    temp_input.append(int(y_pred[0][0]))\n",
        "  i+=1\n",
        "print(predct_data)\n",
        "print(temp_input)"
      ],
      "execution_count": 5,
      "outputs": [
        {
          "output_type": "stream",
          "text": [
            "[197 210 230]\n",
            "[210 230 243]\n",
            "[230 243 261]\n",
            "[243 261 281]\n",
            "[261 281 299]\n",
            "[281 299 321]\n",
            "[299 321 344]\n",
            "[321 344 367]\n",
            "[344 367 394]\n",
            "[367 394 422]\n",
            "[243, 261, 281, 299, 321, 344, 367, 394, 422, 451]\n",
            "[197, 210, 230, 243, 261, 281, 299, 321, 344, 367, 394, 422, 451]\n"
          ],
          "name": "stdout"
        }
      ]
    },
    {
      "cell_type": "code",
      "metadata": {
        "id": "yrBGZt_pxiss",
        "colab_type": "code",
        "colab": {
          "base_uri": "https://localhost:8080/",
          "height": 265
        },
        "outputId": "0cda78b4-ab04-43df-e125-cc8cd56b8444"
      },
      "source": [
        "#Plot The data in Matplot graph\n",
        "import matplotlib.pyplot as plt\n",
        "day_data = range(1,11)\n",
        "day_pred = range(11,21)\n",
        "plt.plot(day_data,TimeSeries_data)\n",
        "plt.plot(day_pred,predct_data)\n",
        "plt.show()"
      ],
      "execution_count": 8,
      "outputs": [
        {
          "output_type": "display_data",
          "data": {
            "image/png": "[encoded data removed]",
            "text/plain": [
              "<Figure size 432x288 with 1 Axes>"
            ]
          },
          "metadata": {
            "tags": [],
            "needs_background": "light"
          }
        }
      ]
    },
    {
      "cell_type": "code",
      "metadata": {
        "id": "aNMHTbBv3zBg",
        "colab_type": "code",
        "colab": {}
      },
      "source": [
        ""
      ],
      "execution_count": 0,
      "outputs": []
    }
  ]
}